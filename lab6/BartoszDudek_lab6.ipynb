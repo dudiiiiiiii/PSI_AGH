{
  "cells": [
    {
      "cell_type": "markdown",
      "metadata": {
        "id": "kasNC1ZmqNg5"
      },
      "source": [
        "## Wstęp\n",
        "\n",
        "![A photograph of a recommender system made from a matric.](stable_diffusion_image.jpeg \"Stable Diffusion image: A photograph of a recommender system made from a matric\")\n",
        "\n",
        "\n",
        "Celem laboratorium jest poznanie podstaw systemów rekomendacyjnych. Zapoznasz się na nim z następującymi tematami:\n",
        "* budową systemów rekomendacyjnych typu collaborative filtering (CF), w szczególności z:\n",
        "  * macierzą interakcji użytkownik-przedmiot (user-item matrix)\n",
        "  * pojęciem biasu użytkownika i przedmiotu\n",
        "  * analizą zbiorów danych do CF\n",
        "  * metrykami jakości dla systemów rekomendacyjnych\n",
        "* algorytmami globalnej rekomendacji:\n",
        "  * metodami podstawowymi (baselines)\n",
        "  * metodami bayesowskimi (Bayesian average)\n",
        "* algorytmami personalizowanej rekomendacji typu CF, w szczególności z:\n",
        "  * metodą najbliższych sąsiadów (neighborhood-based) typu user-based oraz item-based\n",
        "  * rozkładem macierzowym (matrix factorization) typu MF oraz FunkSVD\n",
        "\n",
        "Jak zwykle, możesz albo korzystać z Google Colab, albo z własnego komputera. W obu przypadkach trzeba doinstalować trochę bibliotek.\n",
        "\n",
        "[![Open in Colab](https://colab.research.google.com/assets/colab-badge.svg)](https://colab.research.google.com/github/apohllo/sztuczna-inteligencja/blob/master/lab6/Lab6.ipynb)"
      ]
    },
    {
      "cell_type": "markdown",
      "metadata": {
        "id": "RLzlFQehqNg-"
      },
      "source": [
        "## Krótki wstęp teoretyczny"
      ]
    },
    {
      "cell_type": "markdown",
      "metadata": {
        "id": "aqiODRYqqNg-"
      },
      "source": [
        "**Systemy rekomendacyjne (recommender systems)** to dowolne metody mające rekomendować użytkownikom (users) pewne przedmioty (items). Korzysta z nich praktycznie każda większa firma: Netflix (filmy - \"Top picks for you\"), Spotify (muzyka, \"Recommended for playlist\"), Amazon (sklep - \"frequently bought together\") etc. Mają niesamowicie praktyczne zastosowanie i są jednym z najwcześniej oraz najczęściej wdrażanych metod uczenia maszynowego.\n",
        "\n",
        "Jest to bardzo szeroka dziedzina, o bardzo różnorodnych podejściach. W szczególności można wyróżnić grupy: \n",
        "1. **Collaborative filtering (CF)** - oparte o historię interakcji użytkowników z przedmiotami, czyli zwykle o historię ocen. Stąd pochodzą np. rekomendacje \"użytkownicy podobni do ciebie oglądali także X\", gdzie podobieństwo mierzy się na podstawie tego, jak bardzo podobne mieliśmy w przeszłości oceny do innych użytkowników. Co ważne, takie podejście nie wymaga żadnej inżynierii cech, a jedynie zapamiętania historii ocen / transakcji / interakcji!\n",
        "2. **Content-based (CB)** - dużo bardziej podobne do klasycznego ML, tworzymy wektory cech dla przedmiotów, użytkowników i wykorzystujemy je w klasyfikacji (np. rekomendować lub nie) lub regresji (np. liczba gwiazdek).\n",
        "3. **Algorytmy hybrydowe** - łączące podejścia CF i CB podczas nauki. Są zazwyczaj bardziej złożone i wymagają odpowiednio dużych zbiorów danych.\n",
        "\n",
        "Dodatkowo możemy podzielić problemy rekomendacji na dwa rodzaje, w zależności od tego, czym są nasze **oceny (ratings)**:\n",
        "1. **Explicit feedback** - kiedy użytkownicy jawnie podają oceny, np. ocena hotelu w skali 1-10, liczba gwiadek dla przedmiotu. Wymaga to większej proaktywności użytkowników, więc potencjalnie możemy mieć mniej danych, ale są często bardziej precyzyjne. Są też typowo prostsze teoretycznie (matematycznie), bo mają znany z góry, ograniczony zakres możliwych wartości.\n",
        "2. **Implicit feedback** - kiedy jakość przedmiotu wyznaczają akcje użytkowników, np. liczba kliknięć, liczba udostępnień. Takie informacje można gromadzić automatycznie i bardzo łatwo, ale mogą być mało precyzyjne (np. przypadkowe kliknięcia, boty). Algorytmy dla takich problemów są też cięższe do zaprojektowania, bo mamy tylko wartości nieujemne i typowo nieograniczone z góry.\n",
        "\n",
        "Same rekomendacje mogą być dwojakiego rodzaju:\n",
        "1. **Globalne (global)** - biorą pod uwagę ogólne cechy przedmiotu i są oceniane dla całej społeczności, a nie dla konkretnego użytkownika. Korzystają z nich typowo strony z wiadomościami, żeby ułożyć kolejność postów na stronie, np. HackerNews, Reddit. Przydają się też, gdy nie mamy dość informacji o użytkowniku, aby dokonać personalizacji.\n",
        "2. **Personalizowane (personalized)** - zasadnicze zastosowanie systemów rekomendacyjnych, w którym \"profilujemy\" użytkownika lub przedmiot, tak, aby nauczyć sie relacji między nimi i sugerować to, co konkretną osobę może interesować.\n",
        "\n",
        "Na tym laboratorium skupimy się na systemach typu collaborative filtering, bo są:\n",
        "1. Ciekawsze i bardziej unikatowe na tle tych algorytmów, które już poznaliśmy.\n",
        "2. Często o wiele łatwiejsze w praktycznej implementacji, gdyż nie wymagają inżynierii cech.\n",
        "3. Bardzo szybkie i skalowalne.\n",
        "4. Zazwyczaj lepsze pod względem wyników od systemów content-based.\n",
        "\n",
        "Skupimy się na systemach typu explicit ranking, bo są nieco prostsze i popularniejsze. Poznamy za to i systemy globalne, i personalizowane.\n",
        "\n",
        "Czemu więc korzystać z innego podejścia niż CF? O tym przekonasz się w późniejszej części laboratorium :)"
      ]
    },
    {
      "cell_type": "markdown",
      "metadata": {
        "id": "dDfEYdVWqNhA"
      },
      "source": [
        "## Biblioteki do systemów rekomendacyjnych\n",
        "\n",
        "Do systemów rekomendacyjnych nie istnieje jedna standardowa, powszechnie przyjęta biblioteka, taka jak Scikit-learn. Jest to bowiem zbyt rozległa dziedzina, oparta o bardzo różnorodne podejścia i rozwiązania, aby dało się ją zamknąć w jednej bibliotece ze spójnym interfejsem. Można jednak wyróżnić zbiór najpopularniejszych bibliotek. Co ważne, praktyczne systemy implementuje się jednak często od zera, dla konkretnego problemu.\n",
        "\n",
        "1. [Surprise](https://surpriselib.com/) - od niedawna `scikit-surprise` ze względu na implementację interfejsów ze Scikit-learn'a. Implementuje algorytmy typu explicit rating collaborative filtering.\n",
        "2. [Implicit](https://benfred.github.io/implicit/) - podobna do Surprise, implementuje algorytmy typu implicit rating collaborative filtering.\n",
        "3. [LibRecommender](https://github.com/massquantity/LibRecommender) - rozbudowana biblioteka, implementująca różne podejścia: collaborative filtering, feature-based, oraz hybrydowe. Zawiera algorytmy pisane od zera, w TensorFlow (niestety v1) oraz w PyTorchu, na podstawie szeregu artykułów naukowych. Ma jednak dość specyficzny, niekoniecznie intuicyjny interfejs.\n",
        "4. [Spark MLlib](https://spark.apache.org/docs/latest/ml-collaborative-filtering.html) - de facto standard w pracy z wielkimi zbiorami danych, częstymi w systemach rekomendacyjnych. Implementuje explicit oraz implicit collaborative filtering.\n",
        "5. [PyTorch Geometric](https://pytorch-geometric.readthedocs.io/en/latest/) - de facto standard dla grafowych sieci neuronowych (Graph Neural Networks, GNNs), które są najnowszym trendem w systemach rekomendacyjnych opartych o grafy (graph-based recommender systems).\n",
        "\n",
        "Dodatkowo dla podejścia content-based (opisane, ale nie implementowane w tym laboratorium) można użyć dowolnej biblioteki do uczenia nadzorowanego, typowo Scikit-learn lub Spark MLlib.\n",
        "\n",
        "Na tym laboratorium wykorzystamy `Surprise` ze względu na prostotę użycia. Dodatkowo użyjemy `recmetrics`, aby obliczyć metryki specyficzne dla systemów rekomendacyjnych, których nie implementuje Scikit-learn."
      ]
    },
    {
      "cell_type": "code",
      "execution_count": 1,
      "metadata": {
        "colab": {
          "base_uri": "https://localhost:8080/"
        },
        "id": "MzvuRc2eqNhB",
        "outputId": "7251fa3a-156a-4c16-db7a-3aa464180ec0",
        "scrolled": true
      },
      "outputs": [
        {
          "output_type": "stream",
          "name": "stdout",
          "text": [
            "Looking in indexes: https://pypi.org/simple, https://us-python.pkg.dev/colab-wheels/public/simple/\n",
            "Collecting scikit-surprise\n",
            "  Downloading scikit-surprise-1.1.3.tar.gz (771 kB)\n",
            "\u001b[2K     \u001b[90m━━━━━━━━━━━━━━━━━━━━━━━━━━━━━━━━━━━━━━\u001b[0m \u001b[32m772.0/772.0 KB\u001b[0m \u001b[31m11.3 MB/s\u001b[0m eta \u001b[36m0:00:00\u001b[0m\n",
            "\u001b[?25h  Preparing metadata (setup.py) ... \u001b[?25l\u001b[?25hdone\n",
            "Collecting recmetrics\n",
            "  Downloading recmetrics-0.1.5-py3-none-any.whl (9.3 kB)\n",
            "Requirement already satisfied: joblib>=1.0.0 in /usr/local/lib/python3.8/dist-packages (from scikit-surprise) (1.2.0)\n",
            "Requirement already satisfied: numpy>=1.17.3 in /usr/local/lib/python3.8/dist-packages (from scikit-surprise) (1.21.6)\n",
            "Requirement already satisfied: scipy>=1.3.2 in /usr/local/lib/python3.8/dist-packages (from scikit-surprise) (1.7.3)\n",
            "Requirement already satisfied: seaborn<0.12.0,>=0.11.0 in /usr/local/lib/python3.8/dist-packages (from recmetrics) (0.11.2)\n",
            "Collecting jupyter<2.0.0,>=1.0.0\n",
            "  Downloading jupyter-1.0.0-py2.py3-none-any.whl (2.7 kB)\n",
            "Collecting matplotlib<4.0.0,>=3.3.2\n",
            "  Downloading matplotlib-3.6.3-cp38-cp38-manylinux_2_12_x86_64.manylinux2010_x86_64.whl (9.4 MB)\n",
            "\u001b[2K     \u001b[90m━━━━━━━━━━━━━━━━━━━━━━━━━━━━━━━━━━━━━━━━\u001b[0m \u001b[32m9.4/9.4 MB\u001b[0m \u001b[31m12.7 MB/s\u001b[0m eta \u001b[36m0:00:00\u001b[0m\n",
            "\u001b[?25hCollecting ipython<8.0.0,>=7.18.1\n",
            "  Downloading ipython-7.34.0-py3-none-any.whl (793 kB)\n",
            "\u001b[2K     \u001b[90m━━━━━━━━━━━━━━━━━━━━━━━━━━━━━━━━━━━━━━━\u001b[0m \u001b[32m793.8/793.8 KB\u001b[0m \u001b[31m6.0 MB/s\u001b[0m eta \u001b[36m0:00:00\u001b[0m\n",
            "\u001b[?25hRequirement already satisfied: pandas<2.0.0,>=1.1.3 in /usr/local/lib/python3.8/dist-packages (from recmetrics) (1.3.5)\n",
            "Collecting funcsigs<2.0.0,>=1.0.2\n",
            "  Downloading funcsigs-1.0.2-py2.py3-none-any.whl (17 kB)\n",
            "Collecting plotly<5.0.0,>=4.11.0\n",
            "  Downloading plotly-4.14.3-py2.py3-none-any.whl (13.2 MB)\n",
            "\u001b[2K     \u001b[90m━━━━━━━━━━━━━━━━━━━━━━━━━━━━━━━━━━━━━━━━\u001b[0m \u001b[32m13.2/13.2 MB\u001b[0m \u001b[31m24.2 MB/s\u001b[0m eta \u001b[36m0:00:00\u001b[0m\n",
            "\u001b[?25hCollecting pytest-cov<3.0.0,>=2.10.1\n",
            "  Downloading pytest_cov-2.12.1-py2.py3-none-any.whl (20 kB)\n",
            "Requirement already satisfied: scikit-learn<2.0.0,>=1.0.2 in /usr/local/lib/python3.8/dist-packages (from recmetrics) (1.0.2)\n",
            "Collecting twine<5.0.0,>=4.0.0\n",
            "  Downloading twine-4.0.2-py3-none-any.whl (36 kB)\n",
            "Collecting matplotlib-inline\n",
            "  Downloading matplotlib_inline-0.1.6-py3-none-any.whl (9.4 kB)\n",
            "Requirement already satisfied: prompt-toolkit!=3.0.0,!=3.0.1,<3.1.0,>=2.0.0 in /usr/local/lib/python3.8/dist-packages (from ipython<8.0.0,>=7.18.1->recmetrics) (2.0.10)\n",
            "Requirement already satisfied: decorator in /usr/local/lib/python3.8/dist-packages (from ipython<8.0.0,>=7.18.1->recmetrics) (4.4.2)\n",
            "Requirement already satisfied: backcall in /usr/local/lib/python3.8/dist-packages (from ipython<8.0.0,>=7.18.1->recmetrics) (0.2.0)\n",
            "Requirement already satisfied: pygments in /usr/local/lib/python3.8/dist-packages (from ipython<8.0.0,>=7.18.1->recmetrics) (2.6.1)\n",
            "Collecting jedi>=0.16\n",
            "  Downloading jedi-0.18.2-py2.py3-none-any.whl (1.6 MB)\n",
            "\u001b[2K     \u001b[90m━━━━━━━━━━━━━━━━━━━━━━━━━━━━━━━━━━━━━━━━\u001b[0m \u001b[32m1.6/1.6 MB\u001b[0m \u001b[31m15.4 MB/s\u001b[0m eta \u001b[36m0:00:00\u001b[0m\n",
            "\u001b[?25hRequirement already satisfied: traitlets>=4.2 in /usr/local/lib/python3.8/dist-packages (from ipython<8.0.0,>=7.18.1->recmetrics) (5.7.1)\n",
            "Requirement already satisfied: pickleshare in /usr/local/lib/python3.8/dist-packages (from ipython<8.0.0,>=7.18.1->recmetrics) (0.7.5)\n",
            "Requirement already satisfied: pexpect>4.3 in /usr/local/lib/python3.8/dist-packages (from ipython<8.0.0,>=7.18.1->recmetrics) (4.8.0)\n",
            "Requirement already satisfied: setuptools>=18.5 in /usr/local/lib/python3.8/dist-packages (from ipython<8.0.0,>=7.18.1->recmetrics) (57.4.0)\n",
            "Collecting qtconsole\n",
            "  Downloading qtconsole-5.4.0-py3-none-any.whl (121 kB)\n",
            "\u001b[2K     \u001b[90m━━━━━━━━━━━━━━━━━━━━━━━━━━━━━━━━━━━━━━━\u001b[0m \u001b[32m121.0/121.0 KB\u001b[0m \u001b[31m2.5 MB/s\u001b[0m eta \u001b[36m0:00:00\u001b[0m\n",
            "\u001b[?25hRequirement already satisfied: ipywidgets in /usr/local/lib/python3.8/dist-packages (from jupyter<2.0.0,>=1.0.0->recmetrics) (7.7.1)\n",
            "Requirement already satisfied: ipykernel in /usr/local/lib/python3.8/dist-packages (from jupyter<2.0.0,>=1.0.0->recmetrics) (5.3.4)\n",
            "Requirement already satisfied: jupyter-console in /usr/local/lib/python3.8/dist-packages (from jupyter<2.0.0,>=1.0.0->recmetrics) (6.1.0)\n",
            "Requirement already satisfied: nbconvert in /usr/local/lib/python3.8/dist-packages (from jupyter<2.0.0,>=1.0.0->recmetrics) (5.6.1)\n",
            "Requirement already satisfied: notebook in /usr/local/lib/python3.8/dist-packages (from jupyter<2.0.0,>=1.0.0->recmetrics) (5.7.16)\n",
            "Requirement already satisfied: pyparsing>=2.2.1 in /usr/local/lib/python3.8/dist-packages (from matplotlib<4.0.0,>=3.3.2->recmetrics) (3.0.9)\n",
            "Requirement already satisfied: pillow>=6.2.0 in /usr/local/lib/python3.8/dist-packages (from matplotlib<4.0.0,>=3.3.2->recmetrics) (7.1.2)\n",
            "Requirement already satisfied: cycler>=0.10 in /usr/local/lib/python3.8/dist-packages (from matplotlib<4.0.0,>=3.3.2->recmetrics) (0.11.0)\n",
            "Collecting fonttools>=4.22.0\n",
            "  Downloading fonttools-4.38.0-py3-none-any.whl (965 kB)\n",
            "\u001b[2K     \u001b[90m━━━━━━━━━━━━━━━━━━━━━━━━━━━━━━━━━━━━━━\u001b[0m \u001b[32m965.4/965.4 KB\u001b[0m \u001b[31m17.1 MB/s\u001b[0m eta \u001b[36m0:00:00\u001b[0m\n",
            "\u001b[?25hCollecting contourpy>=1.0.1\n",
            "  Downloading contourpy-1.0.7-cp38-cp38-manylinux_2_17_x86_64.manylinux2014_x86_64.whl (300 kB)\n",
            "\u001b[2K     \u001b[90m━━━━━━━━━━━━━━━━━━━━━━━━━━━━━━━━━━━━━━━\u001b[0m \u001b[32m300.0/300.0 KB\u001b[0m \u001b[31m3.9 MB/s\u001b[0m eta \u001b[36m0:00:00\u001b[0m\n",
            "\u001b[?25hRequirement already satisfied: python-dateutil>=2.7 in /usr/local/lib/python3.8/dist-packages (from matplotlib<4.0.0,>=3.3.2->recmetrics) (2.8.2)\n",
            "Requirement already satisfied: packaging>=20.0 in /usr/local/lib/python3.8/dist-packages (from matplotlib<4.0.0,>=3.3.2->recmetrics) (23.0)\n",
            "Requirement already satisfied: kiwisolver>=1.0.1 in /usr/local/lib/python3.8/dist-packages (from matplotlib<4.0.0,>=3.3.2->recmetrics) (1.4.4)\n",
            "Requirement already satisfied: pytz>=2017.3 in /usr/local/lib/python3.8/dist-packages (from pandas<2.0.0,>=1.1.3->recmetrics) (2022.7.1)\n",
            "Requirement already satisfied: six in /usr/local/lib/python3.8/dist-packages (from plotly<5.0.0,>=4.11.0->recmetrics) (1.15.0)\n",
            "Collecting retrying>=1.3.3\n",
            "  Downloading retrying-1.3.4-py3-none-any.whl (11 kB)\n",
            "Collecting coverage>=5.2.1\n",
            "  Downloading coverage-7.1.0-cp38-cp38-manylinux_2_5_x86_64.manylinux1_x86_64.manylinux_2_17_x86_64.manylinux2014_x86_64.whl (227 kB)\n",
            "\u001b[2K     \u001b[90m━━━━━━━━━━━━━━━━━━━━━━━━━━━━━━━━━━━━━━━\u001b[0m \u001b[32m227.8/227.8 KB\u001b[0m \u001b[31m1.8 MB/s\u001b[0m eta \u001b[36m0:00:00\u001b[0m\n",
            "\u001b[?25hCollecting pytest>=4.6\n",
            "  Downloading pytest-7.2.1-py3-none-any.whl (317 kB)\n",
            "\u001b[2K     \u001b[90m━━━━━━━━━━━━━━━━━━━━━━━━━━━━━━━━━━━━━━\u001b[0m \u001b[32m317.1/317.1 KB\u001b[0m \u001b[31m19.7 MB/s\u001b[0m eta \u001b[36m0:00:00\u001b[0m\n",
            "\u001b[?25hRequirement already satisfied: toml in /usr/local/lib/python3.8/dist-packages (from pytest-cov<3.0.0,>=2.10.1->recmetrics) (0.10.2)\n",
            "Requirement already satisfied: threadpoolctl>=2.0.0 in /usr/local/lib/python3.8/dist-packages (from scikit-learn<2.0.0,>=1.0.2->recmetrics) (3.1.0)\n",
            "Requirement already satisfied: requests>=2.20 in /usr/local/lib/python3.8/dist-packages (from twine<5.0.0,>=4.0.0->recmetrics) (2.25.1)\n",
            "Collecting rich>=12.0.0\n",
            "  Downloading rich-13.3.1-py3-none-any.whl (239 kB)\n",
            "\u001b[2K     \u001b[90m━━━━━━━━━━━━━━━━━━━━━━━━━━━━━━━━━━━━━━\u001b[0m \u001b[32m239.0/239.0 KB\u001b[0m \u001b[31m13.4 MB/s\u001b[0m eta \u001b[36m0:00:00\u001b[0m\n",
            "\u001b[?25hCollecting pkginfo>=1.8.1\n",
            "  Downloading pkginfo-1.9.6-py3-none-any.whl (30 kB)\n",
            "Collecting requests-toolbelt!=0.9.0,>=0.8.0\n",
            "  Downloading requests_toolbelt-0.10.1-py2.py3-none-any.whl (54 kB)\n",
            "\u001b[2K     \u001b[90m━━━━━━━━━━━━━━━━━━━━━━━━━━━━━━━━━━━━━━━━\u001b[0m \u001b[32m54.5/54.5 KB\u001b[0m \u001b[31m3.8 MB/s\u001b[0m eta \u001b[36m0:00:00\u001b[0m\n",
            "\u001b[?25hCollecting rfc3986>=1.4.0\n",
            "  Downloading rfc3986-2.0.0-py2.py3-none-any.whl (31 kB)\n",
            "Collecting readme-renderer>=35.0\n",
            "  Downloading readme_renderer-37.3-py3-none-any.whl (14 kB)\n",
            "Requirement already satisfied: importlib-metadata>=3.6 in /usr/local/lib/python3.8/dist-packages (from twine<5.0.0,>=4.0.0->recmetrics) (6.0.0)\n",
            "Collecting keyring>=15.1\n",
            "  Downloading keyring-23.13.1-py3-none-any.whl (37 kB)\n",
            "Collecting urllib3>=1.26.0\n",
            "  Downloading urllib3-1.26.14-py2.py3-none-any.whl (140 kB)\n",
            "\u001b[2K     \u001b[90m━━━━━━━━━━━━━━━━━━━━━━━━━━━━━━━━━━━━━━━\u001b[0m \u001b[32m140.6/140.6 KB\u001b[0m \u001b[31m8.0 MB/s\u001b[0m eta \u001b[36m0:00:00\u001b[0m\n",
            "\u001b[?25hRequirement already satisfied: zipp>=0.5 in /usr/local/lib/python3.8/dist-packages (from importlib-metadata>=3.6->twine<5.0.0,>=4.0.0->recmetrics) (3.12.0)\n",
            "Requirement already satisfied: parso<0.9.0,>=0.8.0 in /usr/local/lib/python3.8/dist-packages (from jedi>=0.16->ipython<8.0.0,>=7.18.1->recmetrics) (0.8.3)\n",
            "Collecting SecretStorage>=3.2\n",
            "  Downloading SecretStorage-3.3.3-py3-none-any.whl (15 kB)\n",
            "Collecting jaraco.classes\n",
            "  Downloading jaraco.classes-3.2.3-py3-none-any.whl (6.0 kB)\n",
            "Requirement already satisfied: importlib-resources in /usr/local/lib/python3.8/dist-packages (from keyring>=15.1->twine<5.0.0,>=4.0.0->recmetrics) (5.10.2)\n",
            "Collecting jeepney>=0.4.2\n",
            "  Downloading jeepney-0.8.0-py3-none-any.whl (48 kB)\n",
            "\u001b[2K     \u001b[90m━━━━━━━━━━━━━━━━━━━━━━━━━━━━━━━━━━━━━━━━\u001b[0m \u001b[32m48.4/48.4 KB\u001b[0m \u001b[31m3.6 MB/s\u001b[0m eta \u001b[36m0:00:00\u001b[0m\n",
            "\u001b[?25hRequirement already satisfied: ptyprocess>=0.5 in /usr/local/lib/python3.8/dist-packages (from pexpect>4.3->ipython<8.0.0,>=7.18.1->recmetrics) (0.7.0)\n",
            "Requirement already satisfied: wcwidth in /usr/local/lib/python3.8/dist-packages (from prompt-toolkit!=3.0.0,!=3.0.1,<3.1.0,>=2.0.0->ipython<8.0.0,>=7.18.1->recmetrics) (0.2.6)\n",
            "Collecting pluggy<2.0,>=0.12\n",
            "  Downloading pluggy-1.0.0-py2.py3-none-any.whl (13 kB)\n",
            "Requirement already satisfied: attrs>=19.2.0 in /usr/local/lib/python3.8/dist-packages (from pytest>=4.6->pytest-cov<3.0.0,>=2.10.1->recmetrics) (22.2.0)\n",
            "Collecting exceptiongroup>=1.0.0rc8\n",
            "  Downloading exceptiongroup-1.1.0-py3-none-any.whl (14 kB)\n",
            "Requirement already satisfied: tomli>=1.0.0 in /usr/local/lib/python3.8/dist-packages (from pytest>=4.6->pytest-cov<3.0.0,>=2.10.1->recmetrics) (2.0.1)\n",
            "Collecting iniconfig\n",
            "  Downloading iniconfig-2.0.0-py3-none-any.whl (5.9 kB)\n",
            "Requirement already satisfied: docutils>=0.13.1 in /usr/local/lib/python3.8/dist-packages (from readme-renderer>=35.0->twine<5.0.0,>=4.0.0->recmetrics) (0.16)\n",
            "Requirement already satisfied: bleach>=2.1.0 in /usr/local/lib/python3.8/dist-packages (from readme-renderer>=35.0->twine<5.0.0,>=4.0.0->recmetrics) (6.0.0)\n",
            "Requirement already satisfied: idna<3,>=2.5 in /usr/local/lib/python3.8/dist-packages (from requests>=2.20->twine<5.0.0,>=4.0.0->recmetrics) (2.10)\n",
            "Requirement already satisfied: certifi>=2017.4.17 in /usr/local/lib/python3.8/dist-packages (from requests>=2.20->twine<5.0.0,>=4.0.0->recmetrics) (2022.12.7)\n",
            "Requirement already satisfied: chardet<5,>=3.0.2 in /usr/local/lib/python3.8/dist-packages (from requests>=2.20->twine<5.0.0,>=4.0.0->recmetrics) (4.0.0)\n",
            "Collecting markdown-it-py<3.0.0,>=2.1.0\n",
            "  Downloading markdown_it_py-2.1.0-py3-none-any.whl (84 kB)\n",
            "\u001b[2K     \u001b[90m━━━━━━━━━━━━━━━━━━━━━━━━━━━━━━━━━━━━━━━━\u001b[0m \u001b[32m84.5/84.5 KB\u001b[0m \u001b[31m5.5 MB/s\u001b[0m eta \u001b[36m0:00:00\u001b[0m\n",
            "\u001b[?25hRequirement already satisfied: typing-extensions<5.0,>=4.0.0 in /usr/local/lib/python3.8/dist-packages (from rich>=12.0.0->twine<5.0.0,>=4.0.0->recmetrics) (4.4.0)\n",
            "Collecting pygments\n",
            "  Downloading Pygments-2.14.0-py3-none-any.whl (1.1 MB)\n",
            "\u001b[2K     \u001b[90m━━━━━━━━━━━━━━━━━━━━━━━━━━━━━━━━━━━━━━━━\u001b[0m \u001b[32m1.1/1.1 MB\u001b[0m \u001b[31m30.2 MB/s\u001b[0m eta \u001b[36m0:00:00\u001b[0m\n",
            "\u001b[?25hRequirement already satisfied: jupyter-client in /usr/local/lib/python3.8/dist-packages (from ipykernel->jupyter<2.0.0,>=1.0.0->recmetrics) (6.1.12)\n",
            "Requirement already satisfied: tornado>=4.2 in /usr/local/lib/python3.8/dist-packages (from ipykernel->jupyter<2.0.0,>=1.0.0->recmetrics) (6.0.4)\n",
            "Requirement already satisfied: ipython-genutils~=0.2.0 in /usr/local/lib/python3.8/dist-packages (from ipywidgets->jupyter<2.0.0,>=1.0.0->recmetrics) (0.2.0)\n",
            "Requirement already satisfied: widgetsnbextension~=3.6.0 in /usr/local/lib/python3.8/dist-packages (from ipywidgets->jupyter<2.0.0,>=1.0.0->recmetrics) (3.6.1)\n",
            "Requirement already satisfied: jupyterlab-widgets>=1.0.0 in /usr/local/lib/python3.8/dist-packages (from ipywidgets->jupyter<2.0.0,>=1.0.0->recmetrics) (3.0.5)\n",
            "Requirement already satisfied: entrypoints>=0.2.2 in /usr/local/lib/python3.8/dist-packages (from nbconvert->jupyter<2.0.0,>=1.0.0->recmetrics) (0.4)\n",
            "Requirement already satisfied: pandocfilters>=1.4.1 in /usr/local/lib/python3.8/dist-packages (from nbconvert->jupyter<2.0.0,>=1.0.0->recmetrics) (1.5.0)\n",
            "Requirement already satisfied: jupyter-core in /usr/local/lib/python3.8/dist-packages (from nbconvert->jupyter<2.0.0,>=1.0.0->recmetrics) (5.2.0)\n",
            "Requirement already satisfied: mistune<2,>=0.8.1 in /usr/local/lib/python3.8/dist-packages (from nbconvert->jupyter<2.0.0,>=1.0.0->recmetrics) (0.8.4)\n",
            "Requirement already satisfied: jinja2>=2.4 in /usr/local/lib/python3.8/dist-packages (from nbconvert->jupyter<2.0.0,>=1.0.0->recmetrics) (2.11.3)\n",
            "Requirement already satisfied: nbformat>=4.4 in /usr/local/lib/python3.8/dist-packages (from nbconvert->jupyter<2.0.0,>=1.0.0->recmetrics) (5.7.3)\n",
            "Requirement already satisfied: defusedxml in /usr/local/lib/python3.8/dist-packages (from nbconvert->jupyter<2.0.0,>=1.0.0->recmetrics) (0.7.1)\n",
            "Requirement already satisfied: testpath in /usr/local/lib/python3.8/dist-packages (from nbconvert->jupyter<2.0.0,>=1.0.0->recmetrics) (0.6.0)\n",
            "Requirement already satisfied: Send2Trash in /usr/local/lib/python3.8/dist-packages (from notebook->jupyter<2.0.0,>=1.0.0->recmetrics) (1.8.0)\n",
            "Requirement already satisfied: pyzmq>=17 in /usr/local/lib/python3.8/dist-packages (from notebook->jupyter<2.0.0,>=1.0.0->recmetrics) (23.2.1)\n",
            "Requirement already satisfied: prometheus-client in /usr/local/lib/python3.8/dist-packages (from notebook->jupyter<2.0.0,>=1.0.0->recmetrics) (0.16.0)\n",
            "Requirement already satisfied: terminado>=0.8.1 in /usr/local/lib/python3.8/dist-packages (from notebook->jupyter<2.0.0,>=1.0.0->recmetrics) (0.13.3)\n",
            "Collecting qtpy>=2.0.1\n",
            "  Downloading QtPy-2.3.0-py3-none-any.whl (83 kB)\n",
            "\u001b[2K     \u001b[90m━━━━━━━━━━━━━━━━━━━━━━━━━━━━━━━━━━━━━━━━\u001b[0m \u001b[32m83.6/83.6 KB\u001b[0m \u001b[31m1.7 MB/s\u001b[0m eta \u001b[36m0:00:00\u001b[0m\n",
            "\u001b[?25hRequirement already satisfied: webencodings in /usr/local/lib/python3.8/dist-packages (from bleach>=2.1.0->readme-renderer>=35.0->twine<5.0.0,>=4.0.0->recmetrics) (0.5.1)\n",
            "Requirement already satisfied: MarkupSafe>=0.23 in /usr/local/lib/python3.8/dist-packages (from jinja2>=2.4->nbconvert->jupyter<2.0.0,>=1.0.0->recmetrics) (2.0.1)\n",
            "Requirement already satisfied: platformdirs>=2.5 in /usr/local/lib/python3.8/dist-packages (from jupyter-core->nbconvert->jupyter<2.0.0,>=1.0.0->recmetrics) (2.6.2)\n",
            "Collecting mdurl~=0.1\n",
            "  Downloading mdurl-0.1.2-py3-none-any.whl (10.0 kB)\n",
            "Requirement already satisfied: jsonschema>=2.6 in /usr/local/lib/python3.8/dist-packages (from nbformat>=4.4->nbconvert->jupyter<2.0.0,>=1.0.0->recmetrics) (4.3.3)\n",
            "Requirement already satisfied: fastjsonschema in /usr/local/lib/python3.8/dist-packages (from nbformat>=4.4->nbconvert->jupyter<2.0.0,>=1.0.0->recmetrics) (2.16.2)\n",
            "Collecting cryptography>=2.0\n",
            "  Downloading cryptography-39.0.0-cp36-abi3-manylinux_2_28_x86_64.whl (4.2 MB)\n",
            "\u001b[2K     \u001b[90m━━━━━━━━━━━━━━━━━━━━━━━━━━━━━━━━━━━━━━━━\u001b[0m \u001b[32m4.2/4.2 MB\u001b[0m \u001b[31m82.4 MB/s\u001b[0m eta \u001b[36m0:00:00\u001b[0m\n",
            "\u001b[?25hRequirement already satisfied: more-itertools in /usr/local/lib/python3.8/dist-packages (from jaraco.classes->keyring>=15.1->twine<5.0.0,>=4.0.0->recmetrics) (9.0.0)\n",
            "Requirement already satisfied: cffi>=1.12 in /usr/local/lib/python3.8/dist-packages (from cryptography>=2.0->SecretStorage>=3.2->keyring>=15.1->twine<5.0.0,>=4.0.0->recmetrics) (1.15.1)\n",
            "Requirement already satisfied: pyrsistent!=0.17.0,!=0.17.1,!=0.17.2,>=0.14.0 in /usr/local/lib/python3.8/dist-packages (from jsonschema>=2.6->nbformat>=4.4->nbconvert->jupyter<2.0.0,>=1.0.0->recmetrics) (0.19.3)\n",
            "Requirement already satisfied: pycparser in /usr/local/lib/python3.8/dist-packages (from cffi>=1.12->cryptography>=2.0->SecretStorage>=3.2->keyring>=15.1->twine<5.0.0,>=4.0.0->recmetrics) (2.21)\n",
            "Building wheels for collected packages: scikit-surprise\n",
            "  Building wheel for scikit-surprise (setup.py) ... \u001b[?25l\u001b[?25hdone\n",
            "  Created wheel for scikit-surprise: filename=scikit_surprise-1.1.3-cp38-cp38-linux_x86_64.whl size=3366495 sha256=73a4fc5a87330552ec041f3975d5a9f35f307e7206a1796b3ee256d831d9810d\n",
            "  Stored in directory: /root/.cache/pip/wheels/af/db/86/2c18183a80ba05da35bf0fb7417aac5cddbd93bcb1b92fd3ea\n",
            "Successfully built scikit-surprise\n",
            "Installing collected packages: funcsigs, urllib3, rfc3986, retrying, qtpy, pygments, pluggy, pkginfo, mdurl, matplotlib-inline, jeepney, jedi, jaraco.classes, iniconfig, fonttools, exceptiongroup, coverage, contourpy, scikit-surprise, readme-renderer, pytest, plotly, matplotlib, markdown-it-py, ipython, cryptography, SecretStorage, rich, requests-toolbelt, pytest-cov, qtconsole, keyring, twine, jupyter, recmetrics\n",
            "  Attempting uninstall: urllib3\n",
            "    Found existing installation: urllib3 1.24.3\n",
            "    Uninstalling urllib3-1.24.3:\n",
            "      Successfully uninstalled urllib3-1.24.3\n",
            "  Attempting uninstall: pygments\n",
            "    Found existing installation: Pygments 2.6.1\n",
            "    Uninstalling Pygments-2.6.1:\n",
            "      Successfully uninstalled Pygments-2.6.1\n",
            "  Attempting uninstall: pluggy\n",
            "    Found existing installation: pluggy 0.7.1\n",
            "    Uninstalling pluggy-0.7.1:\n",
            "      Successfully uninstalled pluggy-0.7.1\n",
            "  Attempting uninstall: pytest\n",
            "    Found existing installation: pytest 3.6.4\n",
            "    Uninstalling pytest-3.6.4:\n",
            "      Successfully uninstalled pytest-3.6.4\n",
            "  Attempting uninstall: plotly\n",
            "    Found existing installation: plotly 5.5.0\n",
            "    Uninstalling plotly-5.5.0:\n",
            "      Successfully uninstalled plotly-5.5.0\n",
            "  Attempting uninstall: matplotlib\n",
            "    Found existing installation: matplotlib 3.2.2\n",
            "    Uninstalling matplotlib-3.2.2:\n",
            "      Successfully uninstalled matplotlib-3.2.2\n",
            "  Attempting uninstall: ipython\n",
            "    Found existing installation: ipython 7.9.0\n",
            "    Uninstalling ipython-7.9.0:\n",
            "      Successfully uninstalled ipython-7.9.0\n",
            "\u001b[31mERROR: pip's dependency resolver does not currently take into account all the packages that are installed. This behaviour is the source of the following dependency conflicts.\n",
            "google-colab 1.0.0 requires ipython~=7.9.0, but you have ipython 7.34.0 which is incompatible.\u001b[0m\u001b[31m\n",
            "\u001b[0mSuccessfully installed SecretStorage-3.3.3 contourpy-1.0.7 coverage-7.1.0 cryptography-39.0.0 exceptiongroup-1.1.0 fonttools-4.38.0 funcsigs-1.0.2 iniconfig-2.0.0 ipython-7.34.0 jaraco.classes-3.2.3 jedi-0.18.2 jeepney-0.8.0 jupyter-1.0.0 keyring-23.13.1 markdown-it-py-2.1.0 matplotlib-3.6.3 matplotlib-inline-0.1.6 mdurl-0.1.2 pkginfo-1.9.6 plotly-4.14.3 pluggy-1.0.0 pygments-2.14.0 pytest-7.2.1 pytest-cov-2.12.1 qtconsole-5.4.0 qtpy-2.3.0 readme-renderer-37.3 recmetrics-0.1.5 requests-toolbelt-0.10.1 retrying-1.3.4 rfc3986-2.0.0 rich-13.3.1 scikit-surprise-1.1.3 twine-4.0.2 urllib3-1.26.14\n"
          ]
        }
      ],
      "source": [
        "!pip install scikit-surprise recmetrics"
      ]
    },
    {
      "cell_type": "markdown",
      "metadata": {
        "id": "welBWrxkqNhD"
      },
      "source": [
        "## Ściąganie, ładowanie i eksploracja danych"
      ]
    },
    {
      "cell_type": "markdown",
      "metadata": {
        "id": "1Y0Wfwq9qNhE"
      },
      "source": [
        "Na początek ściągniemy nasz zbiór danych. Będziemy pracować na zbiorze MovieLens-100k, czyli zbiorze 100 tysięcy ocen filmów. Strona MovieLens udostępnia wiele rozmiarów tego zbioru danych, a ten będzie odpowiednio szybki na potrzeby edukacyjne. W praktyce wykorzystuje się zbiory rozmiaru co najmniej takiego, jak MovieLens-1M (zbiór miliona ocen).\n",
        "\n",
        "Opis plików można znaleźć w [readme](https://files.grouplens.org/datasets/movielens/ml-100k-README.txt). Najważniejsze fragmenty:\n",
        "```\n",
        "u.data     -- The full u data set, 100000 ratings by 943 users on 1682 items.\n",
        "              Each user has rated at least 20 movies.  Users and items are\n",
        "              numbered consecutively from 1.  The data is randomly\n",
        "              ordered. This is a tab separated list of \n",
        "\t         user id | item id | rating | timestamp. \n",
        "              The time stamps are unix seconds since 1/1/1970 UTC   \n",
        "```\n",
        "\n",
        "Zbiór co prawda ma już przygotowany podział do 5-krotnej walidacji skrośnej (pliki `u1.base`, `u1.test` etc.), ale my wykonamy ten podział sami. Gotowych podziałów używa się w pracach naukowych, aby móc porównywać wyniki różnych algorytmów na dokładnie tych samych zbiorach treningowych i testowych."
      ]
    },
    {
      "cell_type": "code",
      "execution_count": 2,
      "metadata": {
        "colab": {
          "base_uri": "https://localhost:8080/"
        },
        "id": "HzpgfbLwqNhE",
        "outputId": "0d54047d-9da1-4103-ea04-a90fd2296ccd"
      },
      "outputs": [
        {
          "output_type": "stream",
          "name": "stdout",
          "text": [
            "--2023-02-07 16:45:00--  https://files.grouplens.org/datasets/movielens/ml-100k.zip\n",
            "Resolving files.grouplens.org (files.grouplens.org)... 128.101.65.152\n",
            "Connecting to files.grouplens.org (files.grouplens.org)|128.101.65.152|:443... connected.\n",
            "HTTP request sent, awaiting response... 200 OK\n",
            "Length: 4924029 (4.7M) [application/zip]\n",
            "Saving to: ‘ml-100k.zip’\n",
            "\n",
            "ml-100k.zip         100%[===================>]   4.70M  27.0MB/s    in 0.2s    \n",
            "\n",
            "2023-02-07 16:45:00 (27.0 MB/s) - ‘ml-100k.zip’ saved [4924029/4924029]\n",
            "\n"
          ]
        }
      ],
      "source": [
        "!wget -N https://files.grouplens.org/datasets/movielens/ml-100k.zip"
      ]
    },
    {
      "cell_type": "code",
      "execution_count": 3,
      "metadata": {
        "colab": {
          "base_uri": "https://localhost:8080/"
        },
        "id": "GL-KYwCdqNhF",
        "outputId": "9ce5666f-72a5-4322-eea2-612dc82f34d7",
        "scrolled": true
      },
      "outputs": [
        {
          "output_type": "stream",
          "name": "stdout",
          "text": [
            "Archive:  ml-100k.zip\n",
            "   creating: ml-100k/\n",
            "  inflating: ml-100k/allbut.pl       \n",
            "  inflating: ml-100k/mku.sh          \n",
            "  inflating: ml-100k/README          \n",
            "  inflating: ml-100k/u.data          \n",
            "  inflating: ml-100k/u.genre         \n",
            "  inflating: ml-100k/u.info          \n",
            "  inflating: ml-100k/u.item          \n",
            "  inflating: ml-100k/u.occupation    \n",
            "  inflating: ml-100k/u.user          \n",
            "  inflating: ml-100k/u1.base         \n",
            "  inflating: ml-100k/u1.test         \n",
            "  inflating: ml-100k/u2.base         \n",
            "  inflating: ml-100k/u2.test         \n",
            "  inflating: ml-100k/u3.base         \n",
            "  inflating: ml-100k/u3.test         \n",
            "  inflating: ml-100k/u4.base         \n",
            "  inflating: ml-100k/u4.test         \n",
            "  inflating: ml-100k/u5.base         \n",
            "  inflating: ml-100k/u5.test         \n",
            "  inflating: ml-100k/ua.base         \n",
            "  inflating: ml-100k/ua.test         \n",
            "  inflating: ml-100k/ub.base         \n",
            "  inflating: ml-100k/ub.test         \n"
          ]
        }
      ],
      "source": [
        "!unzip -n ml-100k.zip"
      ]
    },
    {
      "cell_type": "code",
      "execution_count": 4,
      "metadata": {
        "colab": {
          "base_uri": "https://localhost:8080/",
          "height": 206
        },
        "id": "c-5sDGP7qNhF",
        "outputId": "8cef6f84-05a8-4375-ab7f-ea919e21d750"
      },
      "outputs": [
        {
          "output_type": "execute_result",
          "data": {
            "text/plain": [
              "   user_id  item_id  rating  timestamp\n",
              "0      196      242       3  881250949\n",
              "1      186      302       3  891717742\n",
              "2       22      377       1  878887116\n",
              "3      244       51       2  880606923\n",
              "4      166      346       1  886397596"
            ],
            "text/html": [
              "\n",
              "  <div id=\"df-d275ec5f-b72e-46ba-b73a-81650ee79bd9\">\n",
              "    <div class=\"colab-df-container\">\n",
              "      <div>\n",
              "<style scoped>\n",
              "    .dataframe tbody tr th:only-of-type {\n",
              "        vertical-align: middle;\n",
              "    }\n",
              "\n",
              "    .dataframe tbody tr th {\n",
              "        vertical-align: top;\n",
              "    }\n",
              "\n",
              "    .dataframe thead th {\n",
              "        text-align: right;\n",
              "    }\n",
              "</style>\n",
              "<table border=\"1\" class=\"dataframe\">\n",
              "  <thead>\n",
              "    <tr style=\"text-align: right;\">\n",
              "      <th></th>\n",
              "      <th>user_id</th>\n",
              "      <th>item_id</th>\n",
              "      <th>rating</th>\n",
              "      <th>timestamp</th>\n",
              "    </tr>\n",
              "  </thead>\n",
              "  <tbody>\n",
              "    <tr>\n",
              "      <th>0</th>\n",
              "      <td>196</td>\n",
              "      <td>242</td>\n",
              "      <td>3</td>\n",
              "      <td>881250949</td>\n",
              "    </tr>\n",
              "    <tr>\n",
              "      <th>1</th>\n",
              "      <td>186</td>\n",
              "      <td>302</td>\n",
              "      <td>3</td>\n",
              "      <td>891717742</td>\n",
              "    </tr>\n",
              "    <tr>\n",
              "      <th>2</th>\n",
              "      <td>22</td>\n",
              "      <td>377</td>\n",
              "      <td>1</td>\n",
              "      <td>878887116</td>\n",
              "    </tr>\n",
              "    <tr>\n",
              "      <th>3</th>\n",
              "      <td>244</td>\n",
              "      <td>51</td>\n",
              "      <td>2</td>\n",
              "      <td>880606923</td>\n",
              "    </tr>\n",
              "    <tr>\n",
              "      <th>4</th>\n",
              "      <td>166</td>\n",
              "      <td>346</td>\n",
              "      <td>1</td>\n",
              "      <td>886397596</td>\n",
              "    </tr>\n",
              "  </tbody>\n",
              "</table>\n",
              "</div>\n",
              "      <button class=\"colab-df-convert\" onclick=\"convertToInteractive('df-d275ec5f-b72e-46ba-b73a-81650ee79bd9')\"\n",
              "              title=\"Convert this dataframe to an interactive table.\"\n",
              "              style=\"display:none;\">\n",
              "        \n",
              "  <svg xmlns=\"http://www.w3.org/2000/svg\" height=\"24px\"viewBox=\"0 0 24 24\"\n",
              "       width=\"24px\">\n",
              "    <path d=\"M0 0h24v24H0V0z\" fill=\"none\"/>\n",
              "    <path d=\"M18.56 5.44l.94 2.06.94-2.06 2.06-.94-2.06-.94-.94-2.06-.94 2.06-2.06.94zm-11 1L8.5 8.5l.94-2.06 2.06-.94-2.06-.94L8.5 2.5l-.94 2.06-2.06.94zm10 10l.94 2.06.94-2.06 2.06-.94-2.06-.94-.94-2.06-.94 2.06-2.06.94z\"/><path d=\"M17.41 7.96l-1.37-1.37c-.4-.4-.92-.59-1.43-.59-.52 0-1.04.2-1.43.59L10.3 9.45l-7.72 7.72c-.78.78-.78 2.05 0 2.83L4 21.41c.39.39.9.59 1.41.59.51 0 1.02-.2 1.41-.59l7.78-7.78 2.81-2.81c.8-.78.8-2.07 0-2.86zM5.41 20L4 18.59l7.72-7.72 1.47 1.35L5.41 20z\"/>\n",
              "  </svg>\n",
              "      </button>\n",
              "      \n",
              "  <style>\n",
              "    .colab-df-container {\n",
              "      display:flex;\n",
              "      flex-wrap:wrap;\n",
              "      gap: 12px;\n",
              "    }\n",
              "\n",
              "    .colab-df-convert {\n",
              "      background-color: #E8F0FE;\n",
              "      border: none;\n",
              "      border-radius: 50%;\n",
              "      cursor: pointer;\n",
              "      display: none;\n",
              "      fill: #1967D2;\n",
              "      height: 32px;\n",
              "      padding: 0 0 0 0;\n",
              "      width: 32px;\n",
              "    }\n",
              "\n",
              "    .colab-df-convert:hover {\n",
              "      background-color: #E2EBFA;\n",
              "      box-shadow: 0px 1px 2px rgba(60, 64, 67, 0.3), 0px 1px 3px 1px rgba(60, 64, 67, 0.15);\n",
              "      fill: #174EA6;\n",
              "    }\n",
              "\n",
              "    [theme=dark] .colab-df-convert {\n",
              "      background-color: #3B4455;\n",
              "      fill: #D2E3FC;\n",
              "    }\n",
              "\n",
              "    [theme=dark] .colab-df-convert:hover {\n",
              "      background-color: #434B5C;\n",
              "      box-shadow: 0px 1px 3px 1px rgba(0, 0, 0, 0.15);\n",
              "      filter: drop-shadow(0px 1px 2px rgba(0, 0, 0, 0.3));\n",
              "      fill: #FFFFFF;\n",
              "    }\n",
              "  </style>\n",
              "\n",
              "      <script>\n",
              "        const buttonEl =\n",
              "          document.querySelector('#df-d275ec5f-b72e-46ba-b73a-81650ee79bd9 button.colab-df-convert');\n",
              "        buttonEl.style.display =\n",
              "          google.colab.kernel.accessAllowed ? 'block' : 'none';\n",
              "\n",
              "        async function convertToInteractive(key) {\n",
              "          const element = document.querySelector('#df-d275ec5f-b72e-46ba-b73a-81650ee79bd9');\n",
              "          const dataTable =\n",
              "            await google.colab.kernel.invokeFunction('convertToInteractive',\n",
              "                                                     [key], {});\n",
              "          if (!dataTable) return;\n",
              "\n",
              "          const docLinkHtml = 'Like what you see? Visit the ' +\n",
              "            '<a target=\"_blank\" href=https://colab.research.google.com/notebooks/data_table.ipynb>data table notebook</a>'\n",
              "            + ' to learn more about interactive tables.';\n",
              "          element.innerHTML = '';\n",
              "          dataTable['output_type'] = 'display_data';\n",
              "          await google.colab.output.renderOutput(dataTable, element);\n",
              "          const docLink = document.createElement('div');\n",
              "          docLink.innerHTML = docLinkHtml;\n",
              "          element.appendChild(docLink);\n",
              "        }\n",
              "      </script>\n",
              "    </div>\n",
              "  </div>\n",
              "  "
            ]
          },
          "metadata": {},
          "execution_count": 4
        }
      ],
      "source": [
        "import os\n",
        "import pandas as pd\n",
        "\n",
        "\n",
        "df = pd.read_csv(\n",
        "    os.path.join(\"ml-100k\", \"u.data\"),\n",
        "    sep=\"\\t\",\n",
        "    header=None,\n",
        "    names=[\"user_id\", \"item_id\", \"rating\", \"timestamp\"],\n",
        ")\n",
        "df.head()"
      ]
    },
    {
      "cell_type": "code",
      "execution_count": 5,
      "metadata": {
        "colab": {
          "base_uri": "https://localhost:8080/"
        },
        "id": "qwRKHql7qNhG",
        "outputId": "c6225e6a-80a1-402b-c260-c9418bd3480a"
      },
      "outputs": [
        {
          "output_type": "stream",
          "name": "stdout",
          "text": [
            "Number of reviews: 100000\n",
            "Ratings range: (1, 5)\n"
          ]
        }
      ],
      "source": [
        "print(f\"Number of reviews: {len(df)}\")\n",
        "print(f\"Ratings range: {df.rating.min(), df.rating.max()}\")"
      ]
    },
    {
      "cell_type": "markdown",
      "metadata": {
        "id": "61VqdxVgqNhH"
      },
      "source": [
        "Tabela w formacie jak powyżej to de facto słownik `(user_id, item_id) -> rating`. Jest zatem idealna do podejścia collaborative filtering, w którym dla **użytkowników (users)** mamy ich **oceny (ratings)** wybranych **przedmiotów (items)**. Tutaj oczywiście przedmiotami są filmy. Można by zatem z takich danych zbudować **macierz ocen (ratings matrix)**, w której wiersze byłyby użytkownikami, kolumny przedmiotami, a komórki zawierałyby oceny. \n",
        "\n",
        "![Rating-matrix-representation-of-recommendation-data.png](attachment:Rating-matrix-representation-of-recommendation-data.png)\n",
        "\n",
        "W przyszłości chcemy zatem **przewidywać wartości brakujące** macierzy ocen. Mamy tu zatem poniekąd problem regresji - chcemy dostać wartość ciągłą, np. na ile użytkownik oceniłby film, którego jeszcze nie widział. Późniejsza rekomendacja to po prostu wybranie najwyższych predykcji i zaproponowanie tych właśnie przedmiotów. Nazywa się to czasem problemem **uzupełnienia macierzy (matrix completion)**.\n",
        "\n",
        "W praktyce **nigdy** nie należy budować macierzy ocen explicite. Zwyczajnie nie zmieściłaby się ona do pamięci dla zbiorów o prawdziwym rozmiarze, kiedy mamy setki tysięcy użytkowników i przedmiotów. Dodatkowo zwyczajnie nie ma to sensu, bo nasze macierze prawie zawsze są **rzadkie (sparse)**, tzn. mają wypełnioną tylko nieznaczną liczbę pól. Reszta jest nieznana - w końcu pojedynczy człowiek obejrzy tylko niewielką część wszystkich filmów z Netflixa, nie mówiąc już o wystawieniu im ocen."
      ]
    },
    {
      "cell_type": "markdown",
      "metadata": {
        "id": "zqcjGcLbqNhH"
      },
      "source": [
        "**Zadanie 1 (0.5 punktu)**\n",
        "\n",
        "Oblicz gęstość (density) macierzy ocen dla naszego zbioru danych. Jest to liczba ocen, podzielona przez rozmiar macierzy ocen (liczba użytkowników * liczba przedmiotów). Wynik przedstaw w procentach, zaokrąglony do 4 miejsc po przecinku. Pamiętaj, żeby uwzględnić tylko unikatowych użytkowników i przedmioty."
      ]
    },
    {
      "cell_type": "code",
      "execution_count": 6,
      "metadata": {
        "colab": {
          "base_uri": "https://localhost:8080/"
        },
        "id": "GvX1iKBqqNhI",
        "outputId": "d0559d31-dbde-47fc-9e02-deb110777177"
      },
      "outputs": [
        {
          "output_type": "stream",
          "name": "stdout",
          "text": [
            "Density: 6.304669364224531 %\n"
          ]
        }
      ],
      "source": [
        "density = df[\"rating\"].size / (df[\"user_id\"].unique().size * df[\"item_id\"].unique().size) * 100\n",
        "print(f\"Density: {density} %\")"
      ]
    },
    {
      "cell_type": "markdown",
      "metadata": {
        "id": "vkf3OwpzqNhI"
      },
      "source": [
        "W praktyce często zbiory mają gęstość rzędu 1% lub mniejszą. Jest to też pozytywne - w końcu to dzięki temu mamy komu robić rekomendacje (i czego).\n",
        "\n",
        "Warto zauważyć, że nasz zbiór zawiera tylko tych użytkowników, którzy ocenili przynajmniej 20 filmów, a zatem wiemy o każdym z nich całkiem sporo. Unika to problemu **zimnego startu (cold start)**, w którym nic nie wiemy o nowych użytkownikach i/lub filmach. W prawdziwych systemach jest to jednak duże wyzwanie. Można sobie z nim radzić na kilka sposobów:\n",
        "- rekomendować najpopularniejsze przedmioty,\n",
        "- rekomendować przedmioty o najwyższych ocenach,\n",
        "- użyć globalnego (niepersonalizowanego) systemu rekomendacyjnego, np. przewidywanie średniej dla przedmiotu,\n",
        "- używać systemu content-based, bo radzą sobie dobrze przy małej liczbie interakcji,\n",
        "- poprosić użytkownika przy pierwszym logowaniu o podanie pierwszych preferencji (nie zawsze jest to możliwe).\n",
        "\n",
        "W związku z problemem zimnego startu systemy rekomendacyjne zwykle są (co najmniej) dwuetapowe i mają osobny algorytm dla nowych użytkowników/przedmiotów oraz osobny dla tych, o których już coś wiemy więcej i możemy dokonywać personalizacji.\n",
        "\n",
        "Zbadajmy teraz rozkład popularności poszczególnych przedmiotów w naszym zbiorze."
      ]
    },
    {
      "cell_type": "markdown",
      "metadata": {
        "id": "ktzABhsDqNhI"
      },
      "source": [
        "**Zadanie 2 (0.5 punktu)**\n",
        "\n",
        "Narysuj wykres popularności (liczby ocen) dla poszczególnych przedmiotów. Wykorzystaj do tego funkcję `long_tail_plot()` z biblioteki `recmetrics`."
      ]
    },
    {
      "cell_type": "code",
      "execution_count": 7,
      "metadata": {
        "colab": {
          "base_uri": "https://localhost:8080/",
          "height": 802
        },
        "id": "7LjdB5ibqNhJ",
        "outputId": "64116152-d7fa-427e-f12e-0306b273db8b"
      },
      "outputs": [
        {
          "output_type": "stream",
          "name": "stdout",
          "text": [
            "Found existing installation: matplotlib 3.6.3\n",
            "Uninstalling matplotlib-3.6.3:\n",
            "  Would remove:\n",
            "    /usr/local/lib/python3.8/dist-packages/matplotlib-3.6.3-py3.8-nspkg.pth\n",
            "    /usr/local/lib/python3.8/dist-packages/matplotlib-3.6.3.dist-info/*\n",
            "    /usr/local/lib/python3.8/dist-packages/matplotlib/*\n",
            "    /usr/local/lib/python3.8/dist-packages/mpl_toolkits/axes_grid1/*\n",
            "    /usr/local/lib/python3.8/dist-packages/mpl_toolkits/axisartist/*\n",
            "    /usr/local/lib/python3.8/dist-packages/mpl_toolkits/mplot3d/*\n",
            "    /usr/local/lib/python3.8/dist-packages/mpl_toolkits/tests/*\n",
            "    /usr/local/lib/python3.8/dist-packages/pylab.py\n",
            "Proceed (Y/n)? y\n",
            "  Successfully uninstalled matplotlib-3.6.3\n",
            "Looking in indexes: https://pypi.org/simple, https://us-python.pkg.dev/colab-wheels/public/simple/\n",
            "Collecting matplotlib==3.1.3\n",
            "  Downloading matplotlib-3.1.3-cp38-cp38-manylinux1_x86_64.whl (13.1 MB)\n",
            "\u001b[2K     \u001b[90m━━━━━━━━━━━━━━━━━━━━━━━━━━━━━━━━━━━━━━━━\u001b[0m \u001b[32m13.1/13.1 MB\u001b[0m \u001b[31m62.4 MB/s\u001b[0m eta \u001b[36m0:00:00\u001b[0m\n",
            "\u001b[?25hRequirement already satisfied: pyparsing!=2.0.4,!=2.1.2,!=2.1.6,>=2.0.1 in /usr/local/lib/python3.8/dist-packages (from matplotlib==3.1.3) (3.0.9)\n",
            "Requirement already satisfied: cycler>=0.10 in /usr/local/lib/python3.8/dist-packages (from matplotlib==3.1.3) (0.11.0)\n",
            "Requirement already satisfied: kiwisolver>=1.0.1 in /usr/local/lib/python3.8/dist-packages (from matplotlib==3.1.3) (1.4.4)\n",
            "Requirement already satisfied: numpy>=1.11 in /usr/local/lib/python3.8/dist-packages (from matplotlib==3.1.3) (1.21.6)\n",
            "Requirement already satisfied: python-dateutil>=2.1 in /usr/local/lib/python3.8/dist-packages (from matplotlib==3.1.3) (2.8.2)\n",
            "Requirement already satisfied: six>=1.5 in /usr/local/lib/python3.8/dist-packages (from python-dateutil>=2.1->matplotlib==3.1.3) (1.15.0)\n",
            "Installing collected packages: matplotlib\n",
            "\u001b[31mERROR: pip's dependency resolver does not currently take into account all the packages that are installed. This behaviour is the source of the following dependency conflicts.\n",
            "recmetrics 0.1.5 requires matplotlib<4.0.0,>=3.3.2, but you have matplotlib 3.1.3 which is incompatible.\u001b[0m\u001b[31m\n",
            "\u001b[0mSuccessfully installed matplotlib-3.1.3\n"
          ]
        },
        {
          "output_type": "stream",
          "name": "stderr",
          "text": [
            "/usr/local/lib/python3.8/dist-packages/seaborn/_decorators.py:36: FutureWarning: Pass the following variable as a keyword arg: x. From version 0.12, the only valid positional argument will be `data`, and passing other arguments without an explicit keyword will result in an error or misinterpretation.\n",
            "  warnings.warn(\n"
          ]
        },
        {
          "output_type": "display_data",
          "data": {
            "text/plain": [
              "<Figure size 432x288 with 1 Axes>"
            ],
            "image/png": "[encoded data removed]"
          },
          "metadata": {
            "needs_background": "light"
          }
        }
      ],
      "source": [
        "!pip uninstall matplotlib\n",
        "!pip install matplotlib==3.1.3\n",
        "\n",
        "from recmetrics import long_tail_plot\n",
        "\n",
        "long_tail_plot(df = df,\n",
        "               item_id_column = \"item_id\",\n",
        "               interaction_type=\"movie_rating\",\n",
        "               percentage=0.4,\n",
        "               x_labels = False)"
      ]
    },
    {
      "cell_type": "markdown",
      "metadata": {
        "id": "4JMvFhkdqNhJ"
      },
      "source": [
        "Typowo niewielka liczba przedmiotów odpowiada za większość ocen. Są to rzeczy bardzo znane i popularne, napędzane efektem kuli śnieżnej. Przykładowo, \"Titanic\" ogląda i ocenia bardzo znaczna liczba użytkowników, przez sam fakt, jak bardzo znany jest ten film. My jesteśmy zwykle zainteresowani **długim ogonem (long tail)** naszego rozkładu popularności, czyli zwiększeniem popularności tych przedmiotów, które są mniej znane, a które możemy zaoferować użytkownikom, np. nowa muzyka do odkrycia."
      ]
    },
    {
      "cell_type": "markdown",
      "metadata": {
        "id": "ac-PDp19qNhJ"
      },
      "source": [
        "**Eksploracja danych - podsumowanie**\n",
        "\n",
        "1. W systemach typu collaborative filtering operujemy na macierzy ocen, gdzie wierszami są użytkownicy, kolumnami oceny, a w komórkach znajdują się oceny.\n",
        "2. Macierz ocen jest zwykle bardzo rzadka.\n",
        "3. Kiedy niewiele wiemy o użytkowniku lub przedmiocie, to mamy problem zimnego startu, z którym trzeba sobie w jakiś sposób poradzić.\n",
        "4. Często występuje zjawisko długiego ogona, czyli dominacji niewielkiej grupy bardzo popularnych przedmiotów."
      ]
    },
    {
      "cell_type": "markdown",
      "metadata": {
        "id": "zM4ep9bMqNhJ"
      },
      "source": [
        "## Walidacja modeli, prosty model bazowy"
      ]
    },
    {
      "cell_type": "markdown",
      "metadata": {
        "id": "fVrEmHM-qNhK"
      },
      "source": [
        "Na początek, zanim zaczniemy budować nasze modele, trzeba wyodrębnić zbiór testowy. Mamy tutaj kilka możliwości. Po pierwsze, można zrobić to po prostu losowo, tak jak to robiliśmy do tej pory, i tak bardzo często się robi.\n",
        "\n",
        "Zbiór testowy ma jednak symulować przyszłe dane, przybliżać zdolność generalizacji modelu, a my mamy do dyspozycji znaczniki czasowe, z kiedy pochodzą dane oceny. Można by więc użyć **podziału czasowego (time split)**, czyli wyodrębnić najnowsze oceny do zbioru testowego, a konkretnie najnowsze oceny per użytkownik. Stanowi to bardzo dobrą symulację tego, jak w praktyce działa system.\n",
        "\n",
        "Powyższe podejścia mają jednak pewne ryzyko - może się zdarzyć, że tak wylosujemy zbiór testowy, że dla jakiegoś użytkownika 90% ocen jest w zbiorze testowym, więc spowodujemy u niego przypadkiem problem zimnego startu. Analogicznie może być przy podziale czasowym, kiedy jakiś nowy użytkownik był aktywny tylko niedawno i być może nawet wszystkie jego predykcje trafiłyby do zbioru testowego. Dlatego można stosować **podział per użytkownik**, wyodrębniając np. losowe 10% ocen każdego użytkownika jako zbiór testowy.\n",
        "\n",
        "Jak widać, jest tu nieco ciężej niż przy zwykłej klasyfikacji czy regresji. Dla uproszczenia wykorzystamy zwykły podział losowy. Implementacje innych metod można znaleźć np. w bibliotece LibRecommender.\n",
        "\n",
        "Surprise definiuje 2 ważne klasy: `Dataset` i `Trainset`. Ta pierwsza reprezentuje surowe dane, a druga wstępnie przetworzone dane do treningu lub testowania. Interfejs jest tutaj dość dziwny, ale w skrócie:\n",
        "- do zwykłych algorytmów idą `train_set` i `test_set`\n",
        "- do `GridSearchCV` idą `data_train` i `test_set`"
      ]
    },
    {
      "cell_type": "code",
      "execution_count": 8,
      "metadata": {
        "id": "QFPFdX4uqNhK"
      },
      "outputs": [],
      "source": [
        "from copy import deepcopy\n",
        "\n",
        "from sklearn.model_selection import train_test_split\n",
        "from surprise.dataset import Dataset, Reader\n",
        "\n",
        "reader = Reader(rating_scale=(df[\"rating\"].min(), df[\"rating\"].max()))\n",
        "dataset = Dataset.load_from_df(df[[\"user_id\", \"item_id\", \"rating\"]], reader=reader)\n",
        "\n",
        "ratings_train, ratings_test = train_test_split(\n",
        "    dataset.raw_ratings, test_size=0.2, random_state=1\n",
        ")\n",
        "\n",
        "data_train = deepcopy(dataset)\n",
        "data_train.raw_ratings = ratings_train\n",
        "\n",
        "train_set = data_train.build_full_trainset()\n",
        "test_set = data_train.construct_testset(ratings_test)"
      ]
    },
    {
      "cell_type": "markdown",
      "metadata": {
        "id": "67qb0JtGqNhK"
      },
      "source": [
        "Na początek zaimplementujemy model, który przewiduje po prostu wartość średnią dla każdego przedmiotu. Nie ma on żadnych hiperparametrów, więc nawet nie będziemy potrzebować zbioru walidacyjnego. Jest to bardzo dobry **model bazowy (baseline)** w systemach rekomendacyjnych.\n",
        "\n",
        "**Zadanie 3 (1 punkt)**\n",
        "\n",
        "Uzupełnij kod klasy `ItemAveragePredictor`, która przewiduje wartość średnią dla każdego przedmiotu. Może ci się tutaj przydać atrybut `ir` (item rating) klasy `Trainset` - [dokumentacja](https://surprise.readthedocs.io/en/stable/trainset.html), oraz [dokumentacja tworzenia własnych algorytmów](https://surprise.readthedocs.io/en/stable/building_custom_algo.html).\n",
        "\n",
        "Dobrym pomysłem będzie przechowywanie danych w postaci atrybutu będącego słownikiem w `.fit()`, żeby zapamiętać mapowanie `item_id` -> średnia ocena.\n",
        "\n",
        "Uwaga - zgodnie z konwencją ze Scikit-learn atrybuty, których wartości są obliczane (estymowane) na podstawie danych treningowych, są tworzone w metodzie `.fit()` i mają underscore `_` na końcu nazwy, np. `self.ratings_`."
      ]
    },
    {
      "cell_type": "code",
      "execution_count": 9,
      "metadata": {
        "id": "cddj3GxVqNhK"
      },
      "outputs": [],
      "source": [
        "import numpy as np\n",
        "from surprise import AlgoBase, PredictionImpossible\n",
        "\n",
        "\n",
        "class ItemAveragePredictor(AlgoBase):\n",
        "    def __init__(self):\n",
        "        AlgoBase.__init__(self)\n",
        "\n",
        "    def fit(self, trainset):\n",
        "        AlgoBase.fit(self, trainset)\n",
        "\n",
        "        self.ratings_ = {item: np.mean(np.fromiter(map(lambda x: x[1], rate), dtype=float)) for item, rate in trainset.ir.items()}\n",
        "\n",
        "        return self\n",
        "\n",
        "    def estimate(self, u, i):\n",
        "        if not (self.trainset.knows_user(u) and self.trainset.knows_item(i)):\n",
        "            raise PredictionImpossible(\"User and/or item is unknown.\")\n",
        "\n",
        "        return self.ratings_[i]"
      ]
    },
    {
      "cell_type": "code",
      "execution_count": 10,
      "metadata": {
        "colab": {
          "base_uri": "https://localhost:8080/"
        },
        "id": "Y8FWlTNpqNhL",
        "outputId": "bd284c0d-ff5f-4a3e-d9c7-416535795cd0"
      },
      "outputs": [
        {
          "output_type": "execute_result",
          "data": {
            "text/plain": [
              "[Prediction(uid=508, iid=185, r_ui=5.0, est=4.075376884422111, details={'was_impossible': False}),\n",
              " Prediction(uid=518, iid=742, r_ui=5.0, est=3.632850241545894, details={'was_impossible': False}),\n",
              " Prediction(uid=178, iid=28, r_ui=5.0, est=3.897777777777778, details={'was_impossible': False}),\n",
              " Prediction(uid=899, iid=291, r_ui=4.0, est=3.4591836734693877, details={'was_impossible': False}),\n",
              " Prediction(uid=115, iid=117, r_ui=4.0, est=3.664451827242525, details={'was_impossible': False})]"
            ]
          },
          "metadata": {},
          "execution_count": 10
        }
      ],
      "source": [
        "algo = ItemAveragePredictor()\n",
        "algo.fit(train_set)\n",
        "pred_item_avg = algo.test(test_set)\n",
        "pred_item_avg[:5]"
      ]
    },
    {
      "cell_type": "markdown",
      "metadata": {
        "id": "M3GVj7xGqNhL"
      },
      "source": [
        "Musimy teraz ocenić jakość naszego algorytmu. Jako że mamy tu problem regresji, to naturalnym wyborem są **RMSE (root mean squared error)** oraz **MAE (Mean Absolute Error)**. Pokażą nam one, jak bardzo średnio nasz model myli się w przewidywaniu ratingu.\n",
        "\n",
        "RMSE to po prostu pierwiastek błędu średniokwadratowego (MSE). Ma taką samą wadę przy ewaluacji jak MSE - zwraca zbyt dużą uwagę na obserwacje odstające (outliers). Dzięki pierwiastkowaniu ma tę samą jednostkę, co oryginalne dane.\n",
        "$$\\large\n",
        "RMSE = \\sqrt{MSE} = \\sqrt{\\frac{1}{N} \\sum_{i=1}^N \\left( y_i - \\hat{y}_i \\right)^2}\n",
        "$$\n",
        "\n",
        "MAE to średnie odchylenie predykcji od wartości prawdziwej. Dzięki zastosowaniu wartości bezwzględnej zamiast kwadratu, jest miarą bardziej odporną na outliery i dlatego często wykorzystywaną przy ewaluacji. Ma naturalnie tę samą jednostkę, co mierzona wartość.\n",
        "$$\\large\n",
        "MAE = \\frac{1}{N} \\sum_{i=1}^N \\left| y_i - \\hat{y}_i \\right|\n",
        "$$\n",
        "\n",
        "Ze względu na to, że Surprise nie zwraca zwykłego wektora Numpy'a, tylko obiekty `Prediction`, trzeba użyć metryk z tej biblioteki. Zwykle nie stanowi to problemu, a dodatkowo mamy też do dyspozycji wszystko, co implementuje biblioteka recmetrics."
      ]
    },
    {
      "cell_type": "code",
      "execution_count": 11,
      "metadata": {
        "colab": {
          "base_uri": "https://localhost:8080/"
        },
        "id": "FtC50esUqNhL",
        "outputId": "2b440e06-73be-46f0-f7c1-d6bab408f93d"
      },
      "outputs": [
        {
          "output_type": "stream",
          "name": "stdout",
          "text": [
            "RMSE: 1.0231\n",
            "MAE:  0.8153\n"
          ]
        },
        {
          "output_type": "execute_result",
          "data": {
            "text/plain": [
              "0.8153345185529649"
            ]
          },
          "metadata": {},
          "execution_count": 11
        }
      ],
      "source": [
        "from surprise.accuracy import rmse, mae\n",
        "\n",
        "rmse(pred_item_avg, verbose=True)\n",
        "mae(pred_item_avg, verbose=True)"
      ]
    },
    {
      "cell_type": "markdown",
      "metadata": {
        "id": "ngshe7TtqNhL"
      },
      "source": [
        "Wygląda na to, że nawet najprostszy model nie radzi sobie wcale tak źle. Ale są to tylko przewidywane wartości - zobaczmy faktyczne rekomendacje. W praktyce mamy ograniczone miejsce, np. mało kto popatrzy na więcej niż pierwsze 5-10 rekomendowanych filmów. W związku z tym nieważne nawet, co będzie dalej - liczy się dla nas **top k** predykcji.\n",
        "\n",
        "Zgromadzimy teraz faktyczne najlepsze oceny ze zbioru testowego dla każdego użytkownika, rekomendacje naszego systemu i zbierzemy je w jednen DataFrame."
      ]
    },
    {
      "cell_type": "code",
      "execution_count": 12,
      "metadata": {
        "colab": {
          "base_uri": "https://localhost:8080/",
          "height": 455
        },
        "id": "KahNMncoqNhL",
        "outputId": "1df538b5-dbaf-4da6-8068-096eda9ce862"
      },
      "outputs": [
        {
          "output_type": "execute_result",
          "data": {
            "text/plain": [
              "                                                    actual  \\\n",
              "user_id                                                      \n",
              "1        [186, 122, 182, 81, 83, 249, 48, 116, 90, 94, ...   \n",
              "2        [255, 251, 242, 10, 1, 285, 258, 283, 257, 269...   \n",
              "3                      [288, 355, 320, 343, 341, 342, 326]   \n",
              "4                                               [258, 361]   \n",
              "5        [401, 413, 21, 194, 227, 40, 408, 151, 243, 38...   \n",
              "...                                                    ...   \n",
              "939                     [9, 409, 689, 1190, 471, 118, 222]   \n",
              "940      [147, 95, 98, 357, 471, 382, 1167, 164, 527, 2...   \n",
              "941                                                  [117]   \n",
              "942      [282, 945, 969, 661, 500, 304, 323, 272, 604, ...   \n",
              "943      [1044, 12, 54, 231, 230, 449, 570, 68, 431, 19...   \n",
              "\n",
              "                                           recommendations  \n",
              "user_id                                                     \n",
              "1        [64, 136, 174, 48, 23, 83, 242, 74, 182, 238, ...  \n",
              "2        [251, 285, 127, 242, 269, 1, 10, 258, 257, 283...  \n",
              "3        [320, 288, 326, 341, 343, 355, 342, 970, 976, ...  \n",
              "4        [258, 361, 975, 973, 972, 971, 970, 969, 968, ...  \n",
              "5        [408, 173, 194, 189, 216, 144, 1, 200, 204, 37...  \n",
              "...                                                    ...  \n",
              "939      [9, 222, 471, 1190, 118, 689, 409, 967, 973, 9...  \n",
              "940      [285, 357, 98, 427, 172, 651, 527, 430, 213, 2...  \n",
              "941      [117, 1, 996, 971, 970, 969, 968, 967, 966, 96...  \n",
              "942      [318, 272, 480, 313, 479, 528, 520, 661, 659, ...  \n",
              "943      [50, 12, 22, 195, 182, 210, 69, 97, 282, 92, 3...  \n",
              "\n",
              "[941 rows x 2 columns]"
            ],
            "text/html": [
              "\n",
              "  <div id=\"df-5054b0a9-14dd-4661-abfb-19a3d0ecdd81\">\n",
              "    <div class=\"colab-df-container\">\n",
              "      <div>\n",
              "<style scoped>\n",
              "    .dataframe tbody tr th:only-of-type {\n",
              "        vertical-align: middle;\n",
              "    }\n",
              "\n",
              "    .dataframe tbody tr th {\n",
              "        vertical-align: top;\n",
              "    }\n",
              "\n",
              "    .dataframe thead th {\n",
              "        text-align: right;\n",
              "    }\n",
              "</style>\n",
              "<table border=\"1\" class=\"dataframe\">\n",
              "  <thead>\n",
              "    <tr style=\"text-align: right;\">\n",
              "      <th></th>\n",
              "      <th>actual</th>\n",
              "      <th>recommendations</th>\n",
              "    </tr>\n",
              "    <tr>\n",
              "      <th>user_id</th>\n",
              "      <th></th>\n",
              "      <th></th>\n",
              "    </tr>\n",
              "  </thead>\n",
              "  <tbody>\n",
              "    <tr>\n",
              "      <th>1</th>\n",
              "      <td>[186, 122, 182, 81, 83, 249, 48, 116, 90, 94, ...</td>\n",
              "      <td>[64, 136, 174, 48, 23, 83, 242, 74, 182, 238, ...</td>\n",
              "    </tr>\n",
              "    <tr>\n",
              "      <th>2</th>\n",
              "      <td>[255, 251, 242, 10, 1, 285, 258, 283, 257, 269...</td>\n",
              "      <td>[251, 285, 127, 242, 269, 1, 10, 258, 257, 283...</td>\n",
              "    </tr>\n",
              "    <tr>\n",
              "      <th>3</th>\n",
              "      <td>[288, 355, 320, 343, 341, 342, 326]</td>\n",
              "      <td>[320, 288, 326, 341, 343, 355, 342, 970, 976, ...</td>\n",
              "    </tr>\n",
              "    <tr>\n",
              "      <th>4</th>\n",
              "      <td>[258, 361]</td>\n",
              "      <td>[258, 361, 975, 973, 972, 971, 970, 969, 968, ...</td>\n",
              "    </tr>\n",
              "    <tr>\n",
              "      <th>5</th>\n",
              "      <td>[401, 413, 21, 194, 227, 40, 408, 151, 243, 38...</td>\n",
              "      <td>[408, 173, 194, 189, 216, 144, 1, 200, 204, 37...</td>\n",
              "    </tr>\n",
              "    <tr>\n",
              "      <th>...</th>\n",
              "      <td>...</td>\n",
              "      <td>...</td>\n",
              "    </tr>\n",
              "    <tr>\n",
              "      <th>939</th>\n",
              "      <td>[9, 409, 689, 1190, 471, 118, 222]</td>\n",
              "      <td>[9, 222, 471, 1190, 118, 689, 409, 967, 973, 9...</td>\n",
              "    </tr>\n",
              "    <tr>\n",
              "      <th>940</th>\n",
              "      <td>[147, 95, 98, 357, 471, 382, 1167, 164, 527, 2...</td>\n",
              "      <td>[285, 357, 98, 427, 172, 651, 527, 430, 213, 2...</td>\n",
              "    </tr>\n",
              "    <tr>\n",
              "      <th>941</th>\n",
              "      <td>[117]</td>\n",
              "      <td>[117, 1, 996, 971, 970, 969, 968, 967, 966, 96...</td>\n",
              "    </tr>\n",
              "    <tr>\n",
              "      <th>942</th>\n",
              "      <td>[282, 945, 969, 661, 500, 304, 323, 272, 604, ...</td>\n",
              "      <td>[318, 272, 480, 313, 479, 528, 520, 661, 659, ...</td>\n",
              "    </tr>\n",
              "    <tr>\n",
              "      <th>943</th>\n",
              "      <td>[1044, 12, 54, 231, 230, 449, 570, 68, 431, 19...</td>\n",
              "      <td>[50, 12, 22, 195, 182, 210, 69, 97, 282, 92, 3...</td>\n",
              "    </tr>\n",
              "  </tbody>\n",
              "</table>\n",
              "<p>941 rows × 2 columns</p>\n",
              "</div>\n",
              "      <button class=\"colab-df-convert\" onclick=\"convertToInteractive('df-5054b0a9-14dd-4661-abfb-19a3d0ecdd81')\"\n",
              "              title=\"Convert this dataframe to an interactive table.\"\n",
              "              style=\"display:none;\">\n",
              "        \n",
              "  <svg xmlns=\"http://www.w3.org/2000/svg\" height=\"24px\"viewBox=\"0 0 24 24\"\n",
              "       width=\"24px\">\n",
              "    <path d=\"M0 0h24v24H0V0z\" fill=\"none\"/>\n",
              "    <path d=\"M18.56 5.44l.94 2.06.94-2.06 2.06-.94-2.06-.94-.94-2.06-.94 2.06-2.06.94zm-11 1L8.5 8.5l.94-2.06 2.06-.94-2.06-.94L8.5 2.5l-.94 2.06-2.06.94zm10 10l.94 2.06.94-2.06 2.06-.94-2.06-.94-.94-2.06-.94 2.06-2.06.94z\"/><path d=\"M17.41 7.96l-1.37-1.37c-.4-.4-.92-.59-1.43-.59-.52 0-1.04.2-1.43.59L10.3 9.45l-7.72 7.72c-.78.78-.78 2.05 0 2.83L4 21.41c.39.39.9.59 1.41.59.51 0 1.02-.2 1.41-.59l7.78-7.78 2.81-2.81c.8-.78.8-2.07 0-2.86zM5.41 20L4 18.59l7.72-7.72 1.47 1.35L5.41 20z\"/>\n",
              "  </svg>\n",
              "      </button>\n",
              "      \n",
              "  <style>\n",
              "    .colab-df-container {\n",
              "      display:flex;\n",
              "      flex-wrap:wrap;\n",
              "      gap: 12px;\n",
              "    }\n",
              "\n",
              "    .colab-df-convert {\n",
              "      background-color: #E8F0FE;\n",
              "      border: none;\n",
              "      border-radius: 50%;\n",
              "      cursor: pointer;\n",
              "      display: none;\n",
              "      fill: #1967D2;\n",
              "      height: 32px;\n",
              "      padding: 0 0 0 0;\n",
              "      width: 32px;\n",
              "    }\n",
              "\n",
              "    .colab-df-convert:hover {\n",
              "      background-color: #E2EBFA;\n",
              "      box-shadow: 0px 1px 2px rgba(60, 64, 67, 0.3), 0px 1px 3px 1px rgba(60, 64, 67, 0.15);\n",
              "      fill: #174EA6;\n",
              "    }\n",
              "\n",
              "    [theme=dark] .colab-df-convert {\n",
              "      background-color: #3B4455;\n",
              "      fill: #D2E3FC;\n",
              "    }\n",
              "\n",
              "    [theme=dark] .colab-df-convert:hover {\n",
              "      background-color: #434B5C;\n",
              "      box-shadow: 0px 1px 3px 1px rgba(0, 0, 0, 0.15);\n",
              "      filter: drop-shadow(0px 1px 2px rgba(0, 0, 0, 0.3));\n",
              "      fill: #FFFFFF;\n",
              "    }\n",
              "  </style>\n",
              "\n",
              "      <script>\n",
              "        const buttonEl =\n",
              "          document.querySelector('#df-5054b0a9-14dd-4661-abfb-19a3d0ecdd81 button.colab-df-convert');\n",
              "        buttonEl.style.display =\n",
              "          google.colab.kernel.accessAllowed ? 'block' : 'none';\n",
              "\n",
              "        async function convertToInteractive(key) {\n",
              "          const element = document.querySelector('#df-5054b0a9-14dd-4661-abfb-19a3d0ecdd81');\n",
              "          const dataTable =\n",
              "            await google.colab.kernel.invokeFunction('convertToInteractive',\n",
              "                                                     [key], {});\n",
              "          if (!dataTable) return;\n",
              "\n",
              "          const docLinkHtml = 'Like what you see? Visit the ' +\n",
              "            '<a target=\"_blank\" href=https://colab.research.google.com/notebooks/data_table.ipynb>data table notebook</a>'\n",
              "            + ' to learn more about interactive tables.';\n",
              "          element.innerHTML = '';\n",
              "          dataTable['output_type'] = 'display_data';\n",
              "          await google.colab.output.renderOutput(dataTable, element);\n",
              "          const docLink = document.createElement('div');\n",
              "          docLink.innerHTML = docLinkHtml;\n",
              "          element.appendChild(docLink);\n",
              "        }\n",
              "      </script>\n",
              "    </div>\n",
              "  </div>\n",
              "  "
            ]
          },
          "metadata": {},
          "execution_count": 12
        }
      ],
      "source": [
        "from surprise import Prediction\n",
        "from typing import List\n",
        "\n",
        "\n",
        "def get_user_recommendations(user_rec_items: pd.Series) -> List[int]:\n",
        "    return user_rec_items.sort_values(ascending=False).index.tolist()\n",
        "\n",
        "\n",
        "def get_recommendations(predictions: List[Prediction]) -> pd.DataFrame:\n",
        "    df_pred = pd.DataFrame(predictions)\n",
        "    df_pred = df_pred.drop(columns=\"details\")\n",
        "    df_pred.columns = [\"user_id\", \"item_id\", \"actual\", \"prediction\"]\n",
        "\n",
        "    df = (\n",
        "        df_pred.groupby(\"user_id\", as_index=False)[\"item_id\"]\n",
        "        .agg({\"actual\": (lambda x: list(x))})\n",
        "        .set_index(\"user_id\")\n",
        "    )\n",
        "\n",
        "    df_pivot = df_pred.pivot_table(\n",
        "        index=\"user_id\", columns=\"item_id\", values=\"prediction\"\n",
        "    ).fillna(0)\n",
        "\n",
        "    df[\"recommendations\"] = [\n",
        "        get_user_recommendations(df_pivot.loc[user_id]) for user_id in df.index\n",
        "    ]\n",
        "\n",
        "    return df\n",
        "\n",
        "\n",
        "rec_item_avg = get_recommendations(pred_item_avg)\n",
        "rec_item_avg"
      ]
    },
    {
      "cell_type": "markdown",
      "metadata": {
        "id": "PyJoCzDcqNhM"
      },
      "source": [
        "Teraz kiedy można porównać faktyczne predykcje, patrząc np. na top 5, to nie wygląda to już tak dobrze, jak trzeba wybrać konkretne filmy. Do mierzenia jakości wśród top k predykcji służą metryki:\n",
        "- mean average precision at k (MAP@k)\n",
        "- mean average recall at k (MAR@k)\n",
        "- Fraction of Concordant Pairs (FCP)\n",
        "- Normalized Discounted Cumulative Gain (NDCG)\n",
        "\n",
        "Są one używane w systemach rekomendacyjnych, ale też w wyszukiwarkach i niektórych problemach NLP. Dla MAP i MAR dokładny opis, krok po kroku, możesz znaleźć [tutaj](https://sdsawtelle.github.io/blog/output/mean-average-precision-MAP-for-recommender-systems.html) i [tutaj](https://machinelearninginterview.com/topics/machine-learning/mapatk_evaluation_metric_for_ranking/). FCP doskonale opisuje [oryginalny artykuł](https://www.ijcai.org/Proceedings/13/Papers/449.pdf). [Tutaj](https://finisky.github.io/2019/04/24/ndcg/) krótki i treściwy artykuł o NDCG.\n",
        "\n",
        "### MAP@k\n",
        "\n",
        "Zdefiniujmy:\n",
        "- True Positive (TP) - przedmiot, który naprawdę jest w top k (*relevant*) i który nasz system zarekomendował w top k przedmiotów\n",
        "- False Positive (FP) - przedmiot, który nie jest w top k (*nonrelevant*), ale nasz model go zarekomendował w top k\n",
        "\n",
        "\"Precision at k\" to precyzja (precision), obliczona dla top k przedmiotów. Oznaczmy przez $r_k$ liczbę TP (*relevant items*) wśród top k przedmiotów.\n",
        "$$\\large\n",
        "P@k = \\frac{\\text{number of relevant items in top }k}{k} = \\frac{r_k}{k}\n",
        "$$\n",
        "\n",
        "\"Average P@k\" to po prostu P@k obliczone dla różnych $i=1,2,...,k$ i uśrednione. Taka agregacja bardzo penalizuje umieszczanie nieciekawych przedmiotów na wysokich miejscach, bo uwzględniamy tylko precyzję dla tych top k, gdzie prawidłowo zauważyliśmy TP.\n",
        "$$\\large\n",
        "AP@k = \\frac{1}{r_k} \\sum_{i=1}^{k} \\left( P@i \\text{ if i-th item is relevant} \\right)\n",
        "$$\n",
        "\n",
        "MAP@k to AP@k (average precision at k), uśrednione dla wszystkich $|U|$ użytkowników:\n",
        "$$\\large\n",
        "MAP@k = \\frac{1}{|U|} \\sum_{u=1}^{|U|}AP@k(u)\n",
        "$$\n",
        "\n",
        "Im niższe $k$, tym surowsi jesteśmy i tym niższe będą wyniki - nasz algorytm musi umieścić poprawne predykcje bardzo wysoko, aby uzyskać wartość niezerową. Typowo $k=5$ lub $k=10$. Zakres wartości MAP@k to $[0, 1]$.\n",
        "\n",
        "MAP@k przykłada bardzo dużą wagę do tego, żeby na pierwszych miejscach trafiły się jak najlepsze przedmioty. Jest zatem bardzo ważne, kiedy mamy mało miejsc do dyspozycji, np. przy rekomendacji filmów na głównej stronie (Netflix).\n",
        "\n",
        "### FCP\n",
        "\n",
        "FCP (Fraction of Concordant Pairs) jest rzadziej używaną, ale bardzo intuicyjną metryką. Ideą jest uogólnienie metryki AUROC (ROC AUC) na algorytmy rankujące, a więc m.in. systemy rekomendacyjne. Ma zakres wartości $[0, 1]$.\n",
        "\n",
        "Liczba zgodnych par (*concordant pairs*) $n_c^u$ dla użytkownika $u$ to liczba par przedmiotów, które zostały prawidłowo uporządkowane przez ranker. Innymi słowy, gdy mamy prawdziwy ranking ocen użytkownika oraz przewidywany, to jest to liczba par przedmiotów, które prawidłowo ułożyliśmy (lepszy przedmiot wyżej niż gorszy).\n",
        "$$\\large\n",
        "n_c(u) = |\\{ (i,j) | \\hat{r}_{ui} > \\hat{r}_{uj} \\text{ and } r_{ui} > r_{uj}\\}|\n",
        "$$\n",
        "\n",
        "Pary niezgodne (*discordant pairs*) liczy się podobnie:\n",
        "$$\\large\n",
        "n_d(u) = |\\{ (i,j) | \\hat{r}_{ui} > \\hat{r}_{uj} \\text{ and } r_{ui} \\leq r_{uj}\\}|\n",
        "$$\n",
        "\n",
        "Proporcja par zgodnych do wszystkich, zsumowana dla wszystkich użytkowników, to FCP:\n",
        "$$\\large\n",
        "FCP = \\frac{n_c}{n_c + n_d} = \\frac{\\sum_{i=1}^n n_c(u_i)}{\\sum_{i=1}^n \\left(n_c(u_i) + n_d(u_i)\\right)}\n",
        "$$\n",
        "\n",
        "Można także obliczyć FCP@k, ograniczając się do pierwszych k predykcji.\n",
        "\n",
        "Metryka FCP przykłada mniejszą wagę niż MAP@k do tego, żeby najlepsze przedmioty były jak najwyżej. Skupia się natomiast na tym, żeby lepsze przedmioty były powyżej gorszych. Działa więc lepiej dla rekomendacji dłuższych list, kiedy pierwsze pozycje nie są aż tak ważne, np. przy rekomendowaniu playlist muzyki (Spotify)."
      ]
    },
    {
      "cell_type": "markdown",
      "metadata": {
        "id": "qjkUutW_qNhM"
      },
      "source": [
        "**Zadanie 4 (1 punkt)**\n",
        "\n",
        "Uzupełnij kod funkcji `ap_k`, która oblicza AP@k dla pojedynczego użytkownika. Pamiętaj, aby ograniczyć się do najwyższych (pierwszych) `k` przedmiotów. W przypadku, gdy model nie miał żadnej dobrej predykcji ($r_k = 0$), zwróć 0.\n",
        "\n",
        "Następnie oblicz i wypisz MAP@k oraz FCP (k=10) dla naszego modelu średniej przedmiotu. Wartości podaj w procentach."
      ]
    },
    {
      "cell_type": "code",
      "execution_count": 13,
      "metadata": {
        "id": "cq-BJXVJqNhM"
      },
      "outputs": [],
      "source": [
        "def ap_k(y_true: List[int], y_pred: List[int], k: int) -> float:\n",
        "    def r_x(k: int):\n",
        "      return len([i for i in y_pred[:k] if i in y_true[:k]])\n",
        "\n",
        "    r_k = r_x(k)\n",
        "\n",
        "    return 0 if r_k == 0 else sum([r_x(i) / i for i in range(1, k+1) if y_pred[i-1] in y_true]) / r_k\n",
        "\n"
      ]
    },
    {
      "cell_type": "code",
      "execution_count": 14,
      "metadata": {
        "id": "LL7Nch-WqNhM"
      },
      "outputs": [],
      "source": [
        "from collections import defaultdict\n",
        "from operator import itemgetter\n",
        "\n",
        "from surprise.accuracy import fcp\n",
        "\n",
        "\n",
        "def map_k(df: pd.DataFrame, k: int) -> float:\n",
        "    ap_k_values = []\n",
        "    for idx, row in df.iterrows():\n",
        "        actual, recommendations = row\n",
        "        ap_k_val = ap_k(actual, recommendations, k)\n",
        "        ap_k_values.append(ap_k_val)\n",
        "\n",
        "    return np.mean(ap_k_values)\n",
        "\n",
        "\n",
        "def fcp_k(predictions: List[Prediction], k: int) -> float:\n",
        "    top_k = defaultdict(list)\n",
        "    for uid, iid, true_r, est, _ in predictions:\n",
        "        top_k[uid].append((iid, est))\n",
        "\n",
        "    user_item_id_pairs = set()\n",
        "\n",
        "    for user_id, user_ratings in top_k.items():\n",
        "        user_ratings.sort(key=itemgetter(1), reverse=True)\n",
        "        for item_id, rating in user_ratings[:k]:\n",
        "            user_item_id_pairs.add((user_id, item_id))\n",
        "\n",
        "    predictions_top_k = [\n",
        "        pred for pred in predictions if (pred[0], pred[1]) in user_item_id_pairs\n",
        "    ]\n",
        "\n",
        "    return fcp(predictions_top_k, verbose=False)"
      ]
    },
    {
      "cell_type": "code",
      "execution_count": 15,
      "metadata": {
        "colab": {
          "base_uri": "https://localhost:8080/"
        },
        "id": "IBW5IMKxqNhN",
        "outputId": "b5019ca6-70b2-4763-e5f1-92e19e76c657"
      },
      "outputs": [
        {
          "output_type": "stream",
          "name": "stdout",
          "text": [
            "Item average model MAP@k (k=10): 56.11%\n",
            "Item average model FCP@k (k=10): 60.60%\n"
          ]
        }
      ],
      "source": [
        "map_k_item_avg = map_k(rec_item_avg, k=10)\n",
        "fcp_item_avg = fcp_k(pred_item_avg, k=10)\n",
        "\n",
        "print(f\"Item average model MAP@k (k=10): {100 * map_k_item_avg:.2f}%\")\n",
        "print(f\"Item average model FCP@k (k=10): {100 * fcp_item_avg:.2f}%\")"
      ]
    },
    {
      "cell_type": "markdown",
      "metadata": {
        "id": "l-gYbMItqNhN"
      },
      "source": [
        "Zobaczymy, że ten wynik da się jeszcze poprawić.\n",
        "\n",
        "Metryki MAP@k i MAR@k mają jednak pewną wadę - preferują sugerowanie popularnych treści przez model, bo można je łatwo umieścić wysoko w rekomendacji i łatwo podbić sobie precyzję. W ten sposób rekomendacje byłyby słabo personalizowane. Dlatego wykorzystuje się szereg innych metryk, głównie biorących pod uwagę różnorodność i personalizację rekomendacji, na przykład:\n",
        "- pokrycie (*coverage*) - procent przedmiotów ze zbioru, który nasz system w ogóle rekomenduje,\n",
        "- nowość (*novelty*) - zdolność systemu do rekomendacji zaskakujących, nowych dla użytkownika przedmiotów,\n",
        "- personalizacja (*personalization*) - miara różnicy między rekomendacjami dla poszczególnych użytkowników.\n",
        "\n",
        "Możesz o nich poczytać więcej na stronie [recmetrics](https://github.com/statisticianinstilettos/recmetrics) oraz w [tym artykule](https://towardsdatascience.com/evaluation-metrics-for-recommender-systems-df56c6611093)."
      ]
    },
    {
      "cell_type": "markdown",
      "metadata": {
        "id": "1IK3L9i6qNhN"
      },
      "source": [
        "**Pomiar jakości systemów rekomendacyjnych - podsumowanie**\n",
        "\n",
        "1. Poza stosowaniem zwykłego podziału losowego train-test można też stosować podział czasowy lub per użytkownik.\n",
        "2. Jednym z najprostszych modeli i dobrym punktem odniesienia (baseline) jest przewidywanie średniej per przedmiot.\n",
        "3. Podstawowymi metrykami jakości są metryki dla regresji: RMSE i MAE, oraz rankowania: MAP@k, MAR@k, NDCG.\n",
        "4. Inne metryki, specyficzne dla rekomendacji, biorą pod uwagę jakość personalizowanych rekomendacji, np. pokrycie, nowość, personalizacja."
      ]
    },
    {
      "cell_type": "markdown",
      "metadata": {
        "id": "EByz7GlxqNhN"
      },
      "source": [
        "## Model średniej bayesowskiej"
      ]
    },
    {
      "cell_type": "markdown",
      "metadata": {
        "id": "RMmVS5sGqNhN"
      },
      "source": [
        "Masz ochotę na dobrą pizzę i szukasz opinii na Google Maps. Masz do wyboru 2 lokale: jeden ze średnią 5.0 i drugi ze średnią 4.8. Zauważasz jednak, że pierwszy ma tylko 5 opinii, a drugi 200. Który wybierzesz? Są spore szanse, że ten drugi, bo mamy większą **pewność (confidence)** co do oceny takiego lokalu.\n",
        "\n",
        "Prosty model, taki jak średnia przedmiotu, ma ten sam problem, co powyżej. Sformalizowaniem idei \"chcę być pewny, że ocena przedmiotu jest wysoka\" jest model **średniej bayesowskiej (Bayesian average)**. Możliwych sformułowań bayesowskich jest dużo, ale ogólna idea jest zawsze taka, aby wziąć pod uwagę rozkład ocen przedmiotu oraz ich liczbę. Co ważne, to dalej są rekomendacje globalne - mamy jedną predykcję per przedmiot.\n",
        "\n",
        "Czemu średnia \"bayesowska\"? Przypomnijmy sobie twierdzenie Bayesa:\n",
        "$$\\large\n",
        "P(Y|X) = \\frac{P(X|Y) \\cdot P(Y)}{P(X)}\n",
        "$$\n",
        "\n",
        "W naszym wypadku:\n",
        "1. $X$ - zbiór danych, który jest stały.\n",
        "2. $Y$ - przewidywane wartości.\n",
        "3. $P(X)$ - prawdopodobieństwo zaobserwowania naszych danych, które co prawda ciężko jest zmierzyć, ale na szczęście w ML zwykle możemy zignorować mianownik, bo to tylko stała.\n",
        "4. $P(Y)$ - *prior* (*prior distribution*), czyli z góry założony rozkład prawdopodobieństw wartości, które przewidujemy. Często zaczynamy bez żadnej wiedzy, więc zakładamy rozkład jednostajny lub normalny.\n",
        "5. $P(X|Y)$ - *likelihood*, wiarygodność, czyli jak dobrze model odwzorowuje dotychczas zaobserwowane dane.\n",
        "6. $P(Y|X)$ - *posterior* (*posterior distribution*), czyli docelowy rozkład wartości przewidywanych, obliczony na podstawie danych.\n",
        "\n",
        "W kontekście systemów rekomendacyjnych:\n",
        "- $P(Y)$ (prior) to założony z góry rozkład ocen, typowo jednostajny, czyli jest taka sama szansa na każdą ocenę\n",
        "- $P(X|Y)$ (likelihood) to miara, jak dobrze nasz model odwzorowuje macierz ocen; jakbyśmy potraktowali go jako skrzynkę generującą oceny, to wiarygodność mierzy, jak bliskie są te generowane wartości wobec prawdziwych ze zbioru danych\n",
        "- $P(Y|X)$ (posterior) to rozkład przewidywanych ocen dla poszczególnych przedmiotów\n",
        "\n",
        "Jak widać, dostajemy rozkład w wyniku. Jak dostać konkretną predykcję, czyli np. liczbę gwiazdek? Używamy **maximum a posteriori (MAP)**, czyli bierzemy po prostu tę ocenę, dla której rozkład posterior ma największą wartość.\n",
        "\n",
        "Wykorzystamy podejście opisane krok po kroku [w tym artykule](https://fulmicoton.com/posts/bayesian_rating/) oraz [tym tutorialu](https://www.algolia.com/doc/guides/managing-results/must-do/custom-ranking/how-to/bayesian-average/), w którym przewidywana ocena dla $i$-tego przedmiotu (po przekształceniach) to:\n",
        "$$\\large\n",
        "r_i = \\frac{C \\cdot m + S_i}{C + c_i}\n",
        "$$\n",
        "\n",
        "gdzie:\n",
        "- $m$ - *globalna średnia* ocen dla wszystkich przedmiotów,\n",
        "- $C$ - *globalna pewność*, hiperparametr, przyjęta minimalna liczba ocen uwiarygadniająca średnią, może być ustalon np. jako wartość pierwszego kwartyla liczby ocen dla wszystkich produktów w bazie,\n",
        "- $S_i$ - *suma ocen* dla produku $i$,\n",
        "- $c_i$ - *liczba ocen* dla produktu $i$.\n",
        "\n",
        "Dodatkowe źródła:\n",
        "- [artykuł o twierdzeniu Bayesa](https://towardsdatascience.com/understand-bayes-rule-likelihood-prior-and-posterior-34eae0f378c5)\n",
        "- [proste i przyjazne sformułowanie średniej bayesowskiej](https://arpitbhayani.me/blogs/bayesian-average)\n",
        "- [bardziej wyrafinowane podejście oparte o dolną granicę błędu](https://www.evanmiller.org/how-not-to-sort-by-average-rating.html)\n",
        "- [bardzo wyrafinowane podejście oparte o dolną granicę błędu - dla odważnych](https://www.evanmiller.org/ranking-items-with-star-ratings.html)\n",
        "- [średnia bayesowska dla danych zmiennych w czasie](https://www.evanmiller.org/bayesian-average-ratings.html)"
      ]
    },
    {
      "cell_type": "markdown",
      "metadata": {
        "id": "qh8uOVYzqNhO"
      },
      "source": [
        "**Zadanie 5 (1 punkt)**\n",
        "\n",
        "Uzupełnij kod klasy `BayesianAveragePredictor`. W metodzie `.fit()` musisz obliczyć parametry:\n",
        "- globalną średnią ocen,\n",
        "- sumę ocen dla każdego przedmiotu,\n",
        "- liczbę ocen dla każdego przedmiotu,\n",
        "- globalną pewność (confidence, $C$).\n",
        "\n",
        "Pewność oblicz jako dolny kwartyl (25 percentyl) rozkładu liczby ocen przedmiotów, zgodnie z [tym tutorialem](https://www.algolia.com/doc/guides/managing-results/must-do/custom-ranking/how-to/bayesian-average/#how-to-calculate-the-bayesian-average). Przyda ci się funkcja `np.quantile()`.\n",
        "\n",
        "Sugerowane jest używanie słowników w `.fit()`, żeby mapować `item_id` na odpowiednią wartość.\n",
        "\n",
        "W metodzie `.estimate()` musisz zastosować obliczone parametry we wzorze podanym powyżej.\n",
        "\n",
        "Dokonaj predykcji i oblicz metryki za pomocą podanej funkcji. Skomentuj wynik w porównaniu do przewidywania średniej przedmiotu."
      ]
    },
    {
      "cell_type": "code",
      "execution_count": 16,
      "metadata": {
        "id": "OxVJJTUoqNhO"
      },
      "outputs": [],
      "source": [
        "class BayesianAveragePredictor(AlgoBase):\n",
        "    def __init__(self):\n",
        "        AlgoBase.__init__(self)\n",
        "\n",
        "    def fit(self, trainset):\n",
        "        AlgoBase.fit(self, trainset)\n",
        "\n",
        "        self.global_avg_ = trainset.global_mean\n",
        "\n",
        "        self.rating_sum_ = { item: np.sum(list(map(lambda x: x[1], ratings))) for item, ratings in trainset.ir.items()}\n",
        "\n",
        "        self.ratings_num_ = { item: len(ratings) for item, ratings in trainset.ir.items()}\n",
        "\n",
        "        self.c_ =  np.quantile(np.fromiter(self.ratings_num_.values(), dtype=int), 0.25)\n",
        "\n",
        "        # confidence (C)\n",
        "\n",
        "        return self\n",
        "\n",
        "    def estimate(self, u, i):\n",
        "        if not (self.trainset.knows_user(u) and self.trainset.knows_item(i)):\n",
        "            raise PredictionImpossible(\"User and/or item is unknown.\")\n",
        "\n",
        "        # implement me!\n",
        "        C = self.c_\n",
        "        m = self.global_avg_\n",
        "        item_sum = self.rating_sum_[i]\n",
        "        item_count = self.ratings_num_[i]\n",
        "        \n",
        "        score = (C * m + item_sum) / (C + item_count)\n",
        "\n",
        "        return score"
      ]
    },
    {
      "cell_type": "code",
      "execution_count": 17,
      "metadata": {
        "id": "L4G1JgLHqNhO"
      },
      "outputs": [],
      "source": [
        "def print_metrics(\n",
        "    predictions: List[Prediction], recommendations: pd.DataFrame, k: int = 10\n",
        ") -> None:\n",
        "    rmse(predictions, verbose=True)\n",
        "    mae(predictions, verbose=True)\n",
        "    map_k_value = map_k(recommendations, k=k)\n",
        "    fcp_k_value = fcp_k(predictions, k=k)\n",
        "\n",
        "    print(f\"MAP@k ({k=}): {100 * map_k_value:.2f}%\")\n",
        "    print(f\"FCP@k ({k=}): {100 * fcp_k_value:.2f}%\")"
      ]
    },
    {
      "cell_type": "code",
      "execution_count": 18,
      "metadata": {
        "colab": {
          "base_uri": "https://localhost:8080/"
        },
        "id": "rvIerPHgqNhP",
        "outputId": "7d34d05a-a7ed-48dd-a5e1-5c6f9935d1e7"
      },
      "outputs": [
        {
          "output_type": "stream",
          "name": "stdout",
          "text": [
            "RMSE: 1.0224\n",
            "MAE:  0.8166\n",
            "MAP@k (k=10): 55.92%\n",
            "FCP@k (k=10): 60.50%\n"
          ]
        }
      ],
      "source": [
        "algo = BayesianAveragePredictor()\n",
        "algo.fit(train_set)\n",
        "pred_bayes_avg = algo.test(test_set)\n",
        "rec_bayes_avg = get_recommendations(pred_bayes_avg)\n",
        "\n",
        "# calculate and print metrics\n",
        "\n",
        "print_metrics(pred_bayes_avg, rec_bayes_avg)"
      ]
    },
    {
      "cell_type": "markdown",
      "metadata": {
        "id": "f18HkGDYqNhP"
      },
      "source": [
        "// skomentuj tutaj"
      ]
    },
    {
      "cell_type": "markdown",
      "metadata": {
        "id": "IowHwKkDqNhP"
      },
      "source": [
        "## Metody oparte o sąsiedztwo"
      ]
    },
    {
      "cell_type": "markdown",
      "metadata": {
        "id": "28WymptwqNhP"
      },
      "source": [
        "Mając solidne punkty odniesienia w postaci rekomendacji globalnych, możemy przejść do rekomendacji personalizowanych. W metodach **opartych o sąsiedztwo (neighborhood-based)** znajdujemy podobnych użytkowników do nas, albo przedmioty podobne do tych które lubiliśmy, i na podstawie tego dokonujemy rekomendacji.\n",
        "\n",
        "Podejście to jest używane także w innych obszarach uczenia maszynowego, np. w algorytmie k najbliższych sąsiadów (*k nearest neighbors*, kNN), SMOTE, albo w identyfikacji osób (znajdujemy 1 najbliższego sąsiada dla osadzenia twarzy). Wymaga ono odpowiedniej metryki, która zmierzy odległość między wektorami, znajdując k najbliższych sąsiadów, z których następnie wyciągamy informacje."
      ]
    },
    {
      "cell_type": "markdown",
      "metadata": {
        "id": "2foHojVdqNhP"
      },
      "source": [
        "### User-based neighborhood-based CF\n",
        "\n",
        "Idea podejścia **user-based** jest bardzo prosta - znajdźmy użytkowników podobnych do nas, którzy oceniali przedmioty, których my jeszcze nie widzieliśmy i zasugerujmy to, co potencjalnie najbardziej będzie się nam podobać. Realizuje podejście \"użytkownicy podobni do ciebie oglądali także...\".\n",
        "\n",
        "Algorytm user-based collaborative filtering działa następująco:\n",
        "1. Dla każdego użytkownika znajdź k najbliższych sąsiadów.\n",
        "2. Predykcja dla przedmiotu to średnia ocena sąsiadów dla tego przedmiotu, którzy ocenili dany przedmiot.\n",
        "3. Zarekomenduj te przedmioty, które mają najwyższą przewidywaną ocenę.\n",
        "\n",
        "Co ważne, przy obliczaniu najbliższych użytkowników bierzemy tylko te przedmioty, które obaj ocenili. Przykładowo, jeżeli użytkownik $u_1$ ocenił przedmioty $[1, 2, 3]$, a użytkownik $u_2$ ocenił przedmioty $[2, 3, 4]$, to na potrzeby obliczania ich podobieństwa bierzemy pod uwagę tylko $[2, 3]$. Przy obliczaniu predykcji dla $i$-tego przedmiotu także bierzemy pod uwagę tylko tych najbliższych sąsiadów, którzy wystawili mu ocenę.\n",
        "\n",
        "Predykcja dla użytkownika $u$ i przedmiotu $i$ to:\n",
        "$$\\large\n",
        "\\hat{r}_{ui} = \\frac{\\sum_{v \\in N_i^k(u)} \\text{sim}(u, v) * r_{vi}}{\\sum_{v \\in N_i^k(u)} \\text{sim}(u, v)}\n",
        "$$\n",
        "gdzie:\n",
        "- $N_i^k(u)$ - $k$ najbliższych sąsiadów dla użytkownika $u$, którzy ocenili przedmiot $i$\n",
        "- $r_{vi}$ - ocena przedmiotu $i$ przez użytkownika $v$\n",
        "- $\\text{sim}(u, v)$ - podobieństwo użytkowników $u$ i $v$ według metryki $\\text{sim}$\n",
        "\n",
        "Co ważne, tutaj metryka jest podobieństwem, tzn. większa wartość = bardziej podobni użytkownicy. Typowo używa się **korelacji Pearsona (Pearson correlation)**, która przyjmuje wartości z zakresu $[-1, 1]$. Dzięki temu wiemy, którzy użytkownicy są bardzo podobni (blisko 1), którzy mają wręcz przeciwny gust do naszego (blisko -1), a którzy są w ogóle inni od nas (blisko 0). Niektóre implementacje (np. Surprise) biorą pod uwagę tylko sąsiadów o nieujemnej korelacji, a inne wykorzystują tę informację z ujemną wagą.\n",
        "\n",
        "Poniższy algorytm wykorzystuje podstawową implementację k najbliższych sąsiadów z biblioteki Surprise."
      ]
    },
    {
      "cell_type": "code",
      "execution_count": 19,
      "metadata": {
        "colab": {
          "base_uri": "https://localhost:8080/"
        },
        "id": "llXdtJYAqNhP",
        "outputId": "9f497888-8d93-4331-c3e6-ce1fd1c8fd15"
      },
      "outputs": [
        {
          "output_type": "stream",
          "name": "stdout",
          "text": [
            "Computing the msd similarity matrix...\n",
            "Done computing similarity matrix.\n",
            "RMSE: 0.9759\n",
            "MAE:  0.7698\n",
            "MAP@k (k=10): 54.86%\n",
            "FCP@k (k=10): 61.28%\n"
          ]
        }
      ],
      "source": [
        "from surprise.prediction_algorithms.knns import KNNBasic\n",
        "\n",
        "knn_basic = KNNBasic()\n",
        "knn_basic.fit(train_set)\n",
        "pred_knn_basic = knn_basic.test(test_set)\n",
        "rec_knn_basic = get_recommendations(pred_knn_basic)\n",
        "\n",
        "print_metrics(pred_knn_basic, rec_knn_basic)"
      ]
    },
    {
      "cell_type": "markdown",
      "metadata": {
        "id": "jY4D6_8dqNhQ"
      },
      "source": [
        "Wynik nie jest zbyt dobry, ale nie przeprowadziliśmy jeszcze żadnego tuningu hiperparametrów.\n",
        "\n",
        "Najważniejszym hiperparametrem jest **liczba sąsiadów `k`**. Trzeba wziąć pod uwagę, że nie wszystkie przedmioty będą się pokrywać między użytkownikami, więc typowo bierze się ich dość dużo. Jeżeli dana implementacja uwzględnia tylko nieujemne korelacje, to jeszcze więcej sąsiadów może odpaść, więc trzeba wziąć większą wartość. Jest to więc de facto maksymalna liczba sąsiadów do uwzględnienia. Im większa wartość, tym mocniejsza regularyzacja, bo uśredniamy więcej użytkowników. Przede wszystkim należy jednak wziąć pod uwagę wielkość naszego zbioru, szczególnie liczbę użytkowników oraz gęstość.\n",
        "\n",
        "Drugim hiperparametrem jest **minimalna liczba sąsiadów `min_k`**. Jeżeli spośród `k` najbliższych sąsiadów mniej niż `min_k` oceniło dany przedmiot, to mamy zimny start. Zwykle wykorzystuje się wtedy algorytm globalny, np. przewidując globalną średnią. Jak widać, system rekomendacyjny składa się w środku z bardzo wielu systemów rekomendacyjnych :)"
      ]
    },
    {
      "cell_type": "markdown",
      "metadata": {
        "id": "nXkKYLo8qNhQ"
      },
      "source": [
        "**Zadanie 6 (1 punkt)**\n",
        "\n",
        "Przeprowadź tuning hiperparametrów, używając 10-krotnej walidacji skrośnej. Jako że interesują nas przede wszystkim same rekomendacje, optymalizuj metrykę FCP. Zbiór jest dość mały, zatem sprawdzimy zakres:\n",
        "```\n",
        "param_grid = {\n",
        "    \"k\": list(range(10, 51, 10)),\n",
        "    \"min_k\": list(range(1, 4)),\n",
        "    \"random_state\": [0],\n",
        "    \"verbose\": [False]\n",
        "}\n",
        "```\n",
        "\n",
        "Wypisz znalezione najlepsze hiperparametry oraz metryki na zbiorze testowym dla najlepszego modelu.\n",
        "\n",
        "Wskazówki:\n",
        "- użyj `GridSearchCV` z biblioteki Surprise,\n",
        "- argument `refit` ma domyślną wartość `False`, inaczej niż w Scikit-learn'ie,\n",
        "- argument `n_jobs`\n",
        "- `random_state` trzeba przekazać jako hiperparametr, API Surprise jest tutaj niezbyt dobrze zrobione ([Github issue](https://github.com/NicolasHug/Surprise/issues/212)),\n",
        "- analogicznie do powyższego działa przekazywanie `verbose` (żeby uniknąć zalewu tekstu).\n",
        "\n",
        "Skomentuj wyniki i zmiany w poszczególnych metrykach."
      ]
    },
    {
      "cell_type": "code",
      "execution_count": 20,
      "metadata": {
        "colab": {
          "base_uri": "https://localhost:8080/"
        },
        "id": "4gSPfH3fqNhQ",
        "outputId": "c5c454ca-386f-4882-b870-db7c7c1e49e6"
      },
      "outputs": [
        {
          "output_type": "stream",
          "name": "stdout",
          "text": [
            "{'fcp': 0.6869461849888655}\n",
            "{'fcp': {'k': 40, 'min_k': 1, 'random_state': 0, 'verbose': False}}\n",
            "RMSE: 0.9759\n",
            "MAE:  0.7698\n",
            "MAP@k (k=10): 54.86%\n",
            "FCP@k (k=10): 61.28%\n"
          ]
        }
      ],
      "source": [
        "from surprise.model_selection import GridSearchCV\n",
        "\n",
        "param_grid = {\n",
        "    \"k\": list(range(10, 51, 10)),\n",
        "    \"min_k\": list(range(1, 4)),\n",
        "    \"random_state\": [0],\n",
        "    \"verbose\": [False],\n",
        "}\n",
        "\n",
        "knn_cv = GridSearchCV(KNNBasic, param_grid, measures=[\"fcp\"], cv=10, refit=True, n_jobs=-1)\n",
        "knn_cv.fit(data_train)\n",
        "\n",
        "print(knn_cv.best_score)\n",
        "print(knn_cv.best_params)\n",
        "\n",
        "pred_knn = knn_cv.test(test_set)\n",
        "rec_knn = get_recommendations(pred_knn)\n",
        "\n",
        "print_metrics(pred_knn, rec_knn)"
      ]
    },
    {
      "cell_type": "markdown",
      "metadata": {
        "id": "gURlBO6XqNhQ"
      },
      "source": [
        "Wyniki bardzo zbliżone do poprzednich."
      ]
    },
    {
      "cell_type": "markdown",
      "metadata": {
        "id": "lY6oOtusqNhQ"
      },
      "source": [
        "Ten algorytm nie bierze jednak psychologicznych różnic między użytkownikami. Niektórzy użytkownicy będą średnio zawyżać oceny, bo film to dla nich luźna rozrywka, a poważni koneserzy mogą dawać filmom średnio dość niskie oceny. Taka tendencja to **user bias**, ale na szczęście można go policzyć - to po prostu średnia ocena wystawiana przez użytkownika, a więc średnia z każdego wiersza w macierzy ocen.\n",
        "\n",
        "Jeżeli od każdego wiersza odejmiemy jego średnią, to dostaniemy **ratings deviations**, czyli nie mamy już w macierzy samych ocen, tylko jak bardzo ocena danego przedmiotu przez użytkownika różni się od jego średniej predykcji. Taka operacja to **centrowanie (centering)**. Na takich wartościach można też zwyczajnie liczyć najbliższych sąsiadów, a korelacja Pearsona dalej działa dla takich danych. Żeby dokonać predykcji, przewidujemy odchylenie dla przedmiotu, a następnie dodajemy je dla średniej danego użytkownika.\n",
        "\n",
        "Mamy zatem:\n",
        "$$\\large\n",
        "\\hat{r}_{ui} = \\mu_i + \\frac{\\sum_{v \\in N_i^k(u)} \\text{sim}(u, v) * (r_{vi} - \\mu_v)}{\\sum_{v \\in N_i^k(u)} \\text{sim}(u, v)}\n",
        "$$\n",
        "\n",
        "Alternatywnie możemy zastosować **standaryzację (standardization)**, czyli odejmujemy średnią i dzielimy przez odchylenie standardowe dla użytkownika. Inną nazwą na taką transformację jest Z-score. Daje to wzór:\n",
        "$$\\large\n",
        "\\hat{r}_{ui} = \\mu_i + \\sigma_i \\cdot \\frac{\\sum_{v \\in N_i^k(u)} \\text{sim}(u, v) * \\frac{r_{vi} - \\mu_v}{\\sigma_v}}{\\sum_{v \\in N_i^k(u)} \\text{sim}(u, v)}\n",
        "$$\n",
        "\n",
        "Można traktować rodzaj normalizacji jako hiperparametr, ale zazwyczaj samo odjęcie średniej wystarcza i daje lepsze wyniki od zwykłego kNN."
      ]
    },
    {
      "cell_type": "markdown",
      "metadata": {
        "id": "mQO322HAqNhQ"
      },
      "source": [
        "**Zadanie 7 (1 punkt)**\n",
        "\n",
        "Analogicznie do poprzedniego zadania wytrenuj, zoptymalizuj i sprawdź na zbiorze treningowym user-based CF z centrowaniem (`KNNWithMeans`) oraz ze standaryzacją (`KNNWithZScore`). Wypisz także optymalny zestaw hiperparametrów dla obu algorytmów. Wykorzystaj tę samą siatkę hiperparametrów, co w poprzednim zadaniu.\n",
        "\n",
        "Skomentuj uzyskane hiperparametry i wyniki."
      ]
    },
    {
      "cell_type": "code",
      "execution_count": 21,
      "metadata": {
        "colab": {
          "base_uri": "https://localhost:8080/"
        },
        "id": "L8A-Fk7yqNhR",
        "outputId": "d66e706f-4011-4cf4-b55f-31d5c8c53a18"
      },
      "outputs": [
        {
          "output_type": "stream",
          "name": "stdout",
          "text": [
            "{'fcp': 0.6796768509708884}\n",
            "{'fcp': {'k': 50, 'min_k': 1, 'random_state': 0, 'verbose': False}}\n",
            "RMSE: 0.9457\n",
            "MAE:  0.7427\n",
            "MAP@k (k=10): 55.66%\n",
            "FCP@k (k=10): 60.66%\n",
            "-----------------------------\n",
            "{'fcp': 0.679578289970953}\n",
            "{'fcp': {'k': 50, 'min_k': 2, 'random_state': 0, 'verbose': False}}\n",
            "RMSE: 0.9459\n",
            "MAE:  0.7399\n",
            "MAP@k (k=10): 55.51%\n",
            "FCP@k (k=10): 60.72%\n"
          ]
        }
      ],
      "source": [
        "from surprise.prediction_algorithms.knns import KNNWithMeans, KNNWithZScore\n",
        "\n",
        "knn_cv = GridSearchCV(KNNWithMeans, param_grid, measures=[\"fcp\"], cv=10, refit=True, n_jobs=-1)\n",
        "knn_cv.fit(data_train)\n",
        "\n",
        "print(knn_cv.best_score)\n",
        "print(knn_cv.best_params)\n",
        "\n",
        "pred_knn = knn_cv.test(test_set)\n",
        "rec_knn = get_recommendations(pred_knn)\n",
        "\n",
        "print_metrics(pred_knn, rec_knn)\n",
        "\n",
        "print(\"-----------------------------\")\n",
        "\n",
        "knn_cv = GridSearchCV(KNNWithZScore, param_grid, measures=[\"fcp\"], cv=10, refit=True, n_jobs=-1)\n",
        "knn_cv.fit(data_train)\n",
        "\n",
        "print(knn_cv.best_score)\n",
        "print(knn_cv.best_params)\n",
        "\n",
        "pred_knn = knn_cv.test(test_set)\n",
        "rec_knn = get_recommendations(pred_knn)\n",
        "\n",
        "print_metrics(pred_knn, rec_knn)"
      ]
    },
    {
      "cell_type": "markdown",
      "source": [
        "Wyniki nadal bardzo podobne do poprzednich. Tuning hiperparametrów nie daje specjalnych efektów niezlaeżnie czy uzyjemy centrowania czy standaryzacji."
      ],
      "metadata": {
        "id": "6-l-1Y3R0dvM"
      }
    },
    {
      "cell_type": "markdown",
      "metadata": {
        "id": "stzbP3sMqNhR"
      },
      "source": [
        "### Item-based neighborhood-based CF\n",
        "\n",
        "Idea podejścia **item-based** jest bardzo podobna do user-based, ale znajdujemy podobne przedmioty, a nie użytkowników. Operujemy zatem na kolumnach macierzy ocen. Realizuje to podejście \"mogą cię jeszcze zainteresować przedmioty...\" oraz \"skoro oglądałeś X, to mogą spodobać ci się...\".\n",
        "\n",
        "Predykcja dla użytkownika $u$ i przedmiotu $i$ to:\n",
        "$$\\large\n",
        "\\hat{r}_{ui} = \\frac{\\sum_{j \\in N_u^k(i)} \\text{sim}(u, v) * r_{uj}}{\\sum_{j \\in N_u^k(i)} \\text{sim}(u, v)}\n",
        "$$\n",
        "\n",
        "Podobieństwo przedmiotów liczymy tutaj według kolumn macierzy, a metryką jest zwykle **podobieństwo cosinusowe (cosine similarity)**. Wykorzystuje się także centrowanie, eliminując **item bias** - przykładowo, \"Titanic\" będzie miał zwykle zawyżone oceny, bo każdy słyszał, że to znany i dobry film, więc podświadomie zawyżymy mu ocenę. Metrykę po centralizacji nazywa się czasem *adjusted cosine similarity*.\n",
        "\n",
        "Podejście item-based zazwyczaj daje większą dokładność niż user-based, tzn. niższe RMSE i MAE. Skutkuje to jednak niższym pokryciem czy nowością. Takie podejście potrafi być też bardziej czułe na zimny start."
      ]
    },
    {
      "cell_type": "markdown",
      "metadata": {
        "id": "3cfgSti5qNhR"
      },
      "source": [
        "**Zadanie 8 (1 punkt)**\n",
        "\n",
        "Zaimplementuj podejście item-based z metryką cosinusową w wariantach:\n",
        "- bez normalizacji,\n",
        "- z centrowaniem (adjusted cosine),\n",
        "- ze standaryzacją.\n",
        "\n",
        "Analogicznie do poprzedniego ćwiczenia zastosuj optymalizację hiperparametrów, podaj najlepszy zestaw oraz wypisz metryki na zbiorze testowym. Wykorzystaj tę samą siatkę hiperparametrów, co w podobnym ćwiczeniu, zmieniając tylko odpowiednio opcje metryki `sim_options`.\n",
        "\n",
        "Żeby zamienić algorytm user-based na item-based, oraz zmienić metrykę, przyda ci się [ten tutorial](https://surprise.readthedocs.io/en/stable/getting_started.html#tune-algorithm-parameters-with-gridsearchcv)."
      ]
    },
    {
      "cell_type": "code",
      "execution_count": 23,
      "metadata": {
        "id": "zZ1h6PQLqNhR",
        "colab": {
          "base_uri": "https://localhost:8080/"
        },
        "outputId": "8e43f5a2-4469-4dab-8479-98a1b96b2025"
      },
      "outputs": [
        {
          "output_type": "stream",
          "name": "stdout",
          "text": [
            "{'fcp': 0.5853978349118542}\n",
            "{'fcp': {'k': 50, 'min_k': 1, 'random_state': 0, 'verbose': False, 'sim_options': {'name': 'cosine', 'user_based': False}}}\n",
            "RMSE: 1.0198\n",
            "MAE:  0.8064\n",
            "MAP@k (k=10): 56.14%\n",
            "FCP@k (k=10): 55.65%\n",
            "-----------------------------\n",
            "{'fcp': 0.6762778444666209}\n",
            "{'fcp': {'k': 50, 'min_k': 1, 'random_state': 0, 'verbose': False, 'sim_options': {'name': 'cosine', 'user_based': False}}}\n",
            "RMSE: 0.9363\n",
            "MAE:  0.7340\n",
            "MAP@k (k=10): 56.23%\n",
            "FCP@k (k=10): 60.91%\n",
            "-----------------------------\n",
            "{'fcp': 0.6806711016183531}\n",
            "{'fcp': {'k': 50, 'min_k': 2, 'random_state': 0, 'verbose': False, 'sim_options': {'name': 'cosine', 'user_based': False}}}\n",
            "RMSE: 0.9383\n",
            "MAE:  0.7351\n",
            "MAP@k (k=10): 55.99%\n",
            "FCP@k (k=10): 60.55%\n"
          ]
        }
      ],
      "source": [
        "param_grid = {\n",
        "    \"k\": list(range(10, 51, 10)),\n",
        "    \"min_k\": list(range(1, 4)),\n",
        "    \"random_state\": [0],\n",
        "    \"verbose\": [False],\n",
        "    'sim_options': {\n",
        "        'name': ['cosine'],\n",
        "        'user_based': [False],\n",
        "    },\n",
        "}\n",
        "\n",
        "\n",
        "knn_cv = GridSearchCV(KNNBasic, param_grid, measures=[\"fcp\"], cv=10, refit=True, n_jobs=-1)\n",
        "knn_cv.fit(data_train)\n",
        "\n",
        "print(knn_cv.best_score)\n",
        "print(knn_cv.best_params)\n",
        "\n",
        "pred_knn = knn_cv.test(test_set)\n",
        "rec_knn = get_recommendations(pred_knn)\n",
        "\n",
        "print_metrics(pred_knn, rec_knn)\n",
        "\n",
        "print(\"-----------------------------\")\n",
        "\n",
        "knn_cv = GridSearchCV(KNNWithMeans, param_grid, measures=[\"fcp\"], cv=10, refit=True, n_jobs=-1)\n",
        "knn_cv.fit(data_train)\n",
        "\n",
        "print(knn_cv.best_score)\n",
        "print(knn_cv.best_params)\n",
        "\n",
        "pred_knn = knn_cv.test(test_set)\n",
        "rec_knn = get_recommendations(pred_knn)\n",
        "\n",
        "print_metrics(pred_knn, rec_knn)\n",
        "\n",
        "print(\"-----------------------------\")\n",
        "\n",
        "knn_cv = GridSearchCV(KNNWithZScore, param_grid, measures=[\"fcp\"], cv=10, refit=True, n_jobs=-1)\n",
        "knn_cv.fit(data_train)\n",
        "\n",
        "print(knn_cv.best_score)\n",
        "print(knn_cv.best_params)\n",
        "\n",
        "pred_knn = knn_cv.test(test_set)\n",
        "rec_knn = get_recommendations(pred_knn)\n",
        "\n",
        "print_metrics(pred_knn, rec_knn)"
      ]
    },
    {
      "cell_type": "markdown",
      "metadata": {
        "id": "wk5kYLVGqNhR"
      },
      "source": [
        "### Metody oparte o sąsiedztwo - podsumowanie\n",
        "\n",
        "Podsumowanie:\n",
        "1. Możemy wyróżnić dwa sposoby liczenia sąsiadów: user-based (inni użytkownicy, wiersze macierzy) oraz item-based (inne przedmioty, kolumny macierzy).\n",
        "2. Podejście user-based wykorzystuje zwykle korelację Pearsona, a item-based podobieństw cosinusowe.\n",
        "3. Użytkownicy oraz przedmioty mają naturalne obciążenie (user bias, item bias), które można wyeliminować, stosując normalizację: centrowanie lub standaryzację.\n",
        "\n",
        "Zalety:\n",
        "1. Prostota.\n",
        "2. Interpretowalność, szczególnie dla item-based.\n",
        "3. Stosunkowo niewielka czułość na dobór hiperparametrów.\n",
        "4. Możliwość idealnego uwspółbieżnienia treningu oraz predykcji (embarassingly parallel).\n",
        "\n",
        "Wady:\n",
        "1. Dość trudna implementacja, trzeba wybierać wspólne przedmioty.\n",
        "2. Trening jest niezbyt skalowalny dla bardzo dużych danych.\n",
        "3. Czułe na zimny start.\n",
        "4. Bardzo niewiele implementacji wspiera inkrementacyjne dodawanie nowych użytkowników/przedmiotów - trzeba przetrenowywać regularnie cały model."
      ]
    },
    {
      "cell_type": "markdown",
      "metadata": {
        "id": "jWBhd8SDqNhS"
      },
      "source": [
        "## Metody oparte o rozkład macierzy"
      ]
    },
    {
      "cell_type": "markdown",
      "metadata": {
        "id": "q7mu_QUSqNhS"
      },
      "source": [
        "Podejście najbliższych sąsiadów definiuje \"sąsiedztwo\" bardzo explicite - wymaga, by użytkownicy ocenili dokładnie te same filmy, aby w ogóle sprawdzać, czy są podobni. Nie wykorzystuje to niejawnych podobieństw między przedmiotami i filmami. Przykładowo, jeżeli jeden lubi filmy \"Szeregowiec Ryan\", \"Dunkierka\" i \"Wróg u bram\", a drugi lubi filmy \"Czas apokalipsy\" i \"Jak rozpętałem drugą wojnę światową\", to są do siebie bardzo podobni, a jednak podejście user-based nawet nie będzie w stanie tego sprawdzić. Item-based mogłoby tu nieco pomóc, ale tam mogą się zdarzyć analogiczne sytuacje.\n",
        "\n",
        "Podejście oparte o rozkład macierzy, spopularyzowane w ramach konkursu Netflix Prize 2007 przez Simona Funka ([wywiad](https://www.kdd.org/exploration_files/simon-funk-explorations.pdf), [jego blog](https://sifter.org/simon/journal/20061211.html)), rozwiązuje właśnie ten problem. Stanowi kamień milowy w systemach rekomendacyjnych, gdyż daje bardzo dobre wyniki, doskonale uwspółbieżnia się i rozprasza na wiele maszyn, a do tego jest naprawdę proste. Szczegółowy i bardzo przystępny opis tego podejścia można znaleźć w artykule [\"Matrix factorization techniques for recommender systems\" Y. Koren, R. Bell, C. Volinsky](https://datajobs.com/data-science-repo/Recommender-Systems-[Netflix].pdf).\n",
        "\n",
        "Ideą jest, aby dokonać **rozkładu macierzy (matrix decomposition)** na macierzy ocen $R$, przybliżając ją jako iloczyn dwóch macierzy $W$ (user matrix) i $U$ (item matrix), które reprezentują użytkowników i przedmioty po dekompozycji:\n",
        "$$\\large\n",
        "\\hat{R} = WU^T\n",
        "$$\n",
        "\n",
        "![matrix_decomposition.png](attachment:matrix_decomposition.png)\n",
        "\n",
        "Załóżmy, że mamy $N$ użytkowników i $M$ przedmiotów. Kształty macierzy to zatem:\n",
        "$$\\large\n",
        "\\hat{R}_{N \\times M} = W_{N \\times K} U_{K \\times N}^T\n",
        "$$\n",
        "\n",
        "Pojawił nam się nowy wymiar $K$ - każdy użytkownik to teraz wektor z macierzy $W$ o długości $K$, a każdy przedmiot to wektor z macierzy $U$ o długości $K$. Jest to **ukryta wymiarowość (latent dimensionality)**, stanowiąca hiperparametr, analogiczny np. do rozmiaru warstw sieci neuronowej. Wartości wektórów nie są interpretowalne, ale dla dobrych modeli można zauważyć, że odwzorowują pewne ogólne tematy w danych. Przykładowo, dla filmów mogą oznaczać, jak gatunki filmowe, np. \"romans\", \"komedia\", \"akcja\". Dla użytkowników mogą oznaczać, w jakim stopniu użytkownik interesuje się danym gatunkiem. Typowe wartości $K$ leżą w przedziale od kilkadziesięci do kilkuset. Ze względu na wykorzystanie wymiarów niejawnych takie modele nazywa się też **latent factor models**."
      ]
    },
    {
      "cell_type": "markdown",
      "metadata": {
        "id": "ENLDegVnqNhS"
      },
      "source": [
        "\n",
        "Predykcji w takim modelu dokonuje się przez iloczyn skalarny wektora użytkownika (wiersz $W$) z wektorem przedmiotu (kolumna $U$):\n",
        "$$\\large\n",
        "r_{ui} = w_u^Tu_i\n",
        "$$\n",
        "\n",
        "Dzięki takiemu sformułowaniu, jeśli zainteresowanie użytkownika tematem $k$ będzie duże, a film będzie dobrze wpasowywał się w temat $k$, to ich pomnożenie da dużą wartość, a zatem wysoką wartość rekomendacji.\n",
        "\n",
        "Algorytm ten nazywa się czasem niepoprawnie SVD, bo takiej nazwy użył Simon Funk do opisu swojego algorytmu (jego wersja ma trochę ulepszeń; będziemy ją nazywać FunkSVD). Co ważne, nie wykorzystujemy tutaj algorytmu SVD, bo nie potrzebujemy całego jego aparatu matematycznego. Zamiast tego ten algorytm to po prostu **matrix factorization (MF)**, tudzież **Probabilistic Matrix Factorization (PMF)** ([oryginalny artykuł PMF](https://proceedings.neurips.cc/paper/2007/file/d7322ed717dedf1eb4e6e52a37ea7bcd-Paper.pdf) dowodzi, że to sformułowanie jest poprawne probabilistycznie). Trenuje się go także bez SVD, zamiast tego wykorzystując spadek wzdłuż gradientu lub algorytm **Alternating Least Squares (ALS)**. Ciężko powiedzieć, które podejście jest lepsze, patrz np. [ta dyskusja](https://stats.stackexchange.com/questions/201279/comparison-of-sgd-and-als-in-collaborative-filtering), [ten artykuł](http://cs229.stanford.edu/proj2014/Christopher%20Aberger,%20Recommender.pdf). \n",
        "Oba podejścia bardzo dobrze opisuje [ten artykuł](https://datasciencemadesimpler.wordpress.com/tag/alternating-least-squares/), który rozwija też bardziej formalnie, czemu ekstrakcja \"tematów\" działa (spoiler: MF dokonuje implicite klasteryzacji).\n",
        "\n",
        "Niezależnie od podejścia, celem algorytmu jest minimalizacja funkcji kosztu, czyli różnicy między naszym przybliżeniem $\\hat{R} = WU^T$ a prawdziwą macierzą $R$. Zwykle wykorzystuje się tutaj błąd średniokwadratowy, w zapisie macierzowym $||\\hat{R} - R||_2^2$. \n",
        "\n",
        "Formalnie:\n",
        "$$\\large\n",
        "L = \\sum_{u, i \\in \\Omega} \\left( r_{ui} - \\hat{r}_{ui} \\right)^2\n",
        "$$\n",
        "gdzie $\\Omega$ to zbiór wszystkich wypełnionych komórek w macierzy ocen.\n",
        "\n",
        "Jako że mamy dwie macierze do nauczenia, $W$ oraz $U$, to mamy pochodną po wektorach $w$ oraz po wektorach $u$, czyli wierszach macierzy W i U.\n",
        "\n",
        "Po przekształceniach dostajemy (gdzie $w_i$ to $i$-ty wiersz macierzy $W$, a $u_j$ to $j$-ty wiersz macierzy $U$):\n",
        "$$\\large\n",
        "w_i = \\left( \\sum_{j \\in \\Psi_i} u_ju_j^T \\right)^{-1} \\sum_{j \\in \\Psi_i} r_{ij}u_j\n",
        "$$\n",
        "\n",
        "&nbsp; \n",
        "\n",
        "$$\\large\n",
        "u_j = \\left( \\sum_{i \\in \\Omega_j} w_iw_i^T \\right)^{-1} \\sum_{i \\in \\Omega_j} r_{ij}w_i\n",
        "$$\n",
        "gdzie:\n",
        "- $\\Psi_i$ oznacza zbiór przedmiotów, które ocenił użytkownik $i$,\n",
        "- $\\Omega_j$ oznacza zbiór użytkowników, którzy ocenili przedmiot $j$."
      ]
    },
    {
      "cell_type": "markdown",
      "metadata": {
        "id": "St6fVts0qNhS"
      },
      "source": [
        "Można zauważyć, że w obu przypadkach jest to zwyczajny nadokreślony (*overdetermined*) układ równań postaci $x=A^{-1}b$. Taki problem rozwiązuje się metodą najmniejszych kwadratów (*ordinary least squares*), stąd część nazwy metody. Oczywiście do rozwiązania problemu OLS można użyć SVD.\n",
        "\n",
        "Przybliżymy teraz krótko metodę ALS, bo SGD znamy już z sieci neuronowych. Można zauważyć w powyższych wzorach, że dla $W$ pochodna zależy od wartości w $U$, a dla $U$ od wartości w $W$ - wydaje się, że sytuacja patowa. Rozwiązaniem jest po prostu przyjąć losowy punkt wyjścia, a potem raz rozwiązywać $W$ za pomocą $U$, a raz na odwrót.\n",
        "\n",
        "Pełny algorytm ALS:\n",
        "1. Zainicjalizuj losowo macierze $W$ i $U$ niewielkimi wartościami z rozkładu normalnego\n",
        "2. Powtarzaj przez T kroków:\n",
        "  1. Zaktualizuj $U$ według wzoru, rozwiązując układ równań; $W$ jest stałe\n",
        "  2. Zaktualizuj $W$ według wzoru, rozwiązując układ równań; $U$ jest stałe\n",
        "\n",
        "Co ważne, zbieżność i ALS, i spadku wzdłuż gradientu jest gwarantowana, ale do minimum lokalnego. Zwykle nie stanowi to jednak problemu, a w razie czego zawsze można wytrenować wiele modeli na różnych `random_state` i wybrać najlepszy. Liczba epok treningowych stanowi dość prosty hiperparametr - im więcej, tym dokładniejsi po prostu będziemy, więc możemy bardziej overfitować (analogicznie do sieci neuronowych). Zazwyczaj w przypadku ALS wystarcza niewielka liczba, kilka-kilkanaście iteracji."
      ]
    },
    {
      "cell_type": "markdown",
      "metadata": {
        "id": "0-OuGoC2qNhT"
      },
      "source": [
        "Surprise implementuje wersję z SGD. Wersję z ALS implementuje np. Apache Spark. Wersję z SGD można też łatwo zaimplementować w dowolnym frameworku do sieci neuronowych, np. PyTorch czy TensorFlow."
      ]
    },
    {
      "cell_type": "code",
      "execution_count": 24,
      "metadata": {
        "id": "j-hGFWrgqNhT",
        "colab": {
          "base_uri": "https://localhost:8080/"
        },
        "outputId": "7328b852-5d9c-4903-82cc-f21ac11b33d6"
      },
      "outputs": [
        {
          "output_type": "stream",
          "name": "stdout",
          "text": [
            "RMSE: 0.9671\n",
            "MAE:  0.7596\n",
            "MAP@k (k=10): 55.84%\n",
            "FCP@k (k=10): 60.76%\n"
          ]
        }
      ],
      "source": [
        "from surprise.prediction_algorithms.matrix_factorization import SVD\n",
        "\n",
        "# regular MF - no user/item bias, no regularization\n",
        "mf = SVD(biased=False, reg_all=0, random_state=0)\n",
        "mf.fit(train_set)\n",
        "pred_mf = mf.test(test_set)\n",
        "rec_mf = get_recommendations(pred_mf)\n",
        "\n",
        "print_metrics(pred_mf, rec_mf)"
      ]
    },
    {
      "cell_type": "markdown",
      "metadata": {
        "id": "rPAz3bn2qNhT"
      },
      "source": [
        "Dostaliśmy całkiem dobry wynik bez żadnego tuningu, a czeka nas jeszcze trochę ulepszeń, bo powyższy algorytm to jeszcze nie słynny FunkSVD.\n",
        "\n",
        "Skoro user bias i item bias pomagały w metodach opartych o sąsiedztwo, to dodajmy je też tutaj. Najpierw możemy odjąć od wszystkiego globalną średnią $\\mu$, żeby wycentrować całą macierz. Potem odejmujemy od każdego wiersza user bias $b_u$, a na koniec od każdej kolumny item bias $b_i$. Predykcja to zatem:\n",
        "$$\\large\n",
        "\\hat{r}_{ui} = \\mu + b_u + b_i + w_u^Tu_i\n",
        "$$\n",
        "\n",
        "Drugie ulepszenie to dodanie regularyzacji do naszej funkcji kosztu. W końcu nie możemy się zbyt bardzo dostosować do zbioru treningowego, nasz algorytm ma generalizować się dla przyszłych rekomendacji. Co ważne, mamy tutaj aż 4 możliwe źródła przeuczenia:\n",
        "- $b_u$ - zbytnie dostosowanie do dotychczasowych odchyleń użytkowników,\n",
        "- $b_i$ - analogicznie, ale dla przedmiotów,\n",
        "- $w_i$ - jest to wektor wag, więc duże wagi oznaczają overfitting, jak np. w regresji liniowej,\n",
        "- $u_i$ - analogicznie, ale dla drugiej macierzy.\n",
        "\n",
        "Można by użyć 4 osobnych współczynników regularyzacji, ale optymalizacja takiej siatki hiperparametrów jest raczej mało wykonalna. Można więc użyć jednego hiperparametru na moc regularyzacji L2 $\\lambda$, włączając do niego wszystkie parametry. \n",
        "\n",
        "Daje to funkcję kosztu:\n",
        "$$\\large\n",
        "L = \\sum_{u, i \\in \\Omega} \\left( r_{ui} - \\hat{r}_{ui} \\right)^2 + \\lambda \\left( ||W||_2^2 + ||U||_2^2 + ||b_u||_2^2 + ||b_i||_2^2 \\right)\n",
        "$$\n",
        "\n",
        "Pomijając dalsze wyprowadzenie, nic nie zmienia to w gruncie rzeczy w algorytmie ALS, dalej możemy użyć zwykłego OLS, zmienią się tylko trochę wartości w macierzach. Niewiele zmienia się też, gdy używamy spadku wzdłuż gradientu - dodajemy tylko regularyzację do funkcji kosztu.\n",
        "\n",
        "Powyższe sformułowanie to już pełny algorytm FunkSVD. Zobaczmy, jak sobie poradzi."
      ]
    },
    {
      "cell_type": "code",
      "execution_count": 25,
      "metadata": {
        "id": "duMvaN4BqNhT",
        "colab": {
          "base_uri": "https://localhost:8080/"
        },
        "outputId": "77f32883-ec08-4a0c-f0cf-920929114a04"
      },
      "outputs": [
        {
          "output_type": "stream",
          "name": "stdout",
          "text": [
            "RMSE: 0.9308\n",
            "MAE:  0.7323\n",
            "MAP@k (k=10): 55.82%\n",
            "FCP@k (k=10): 61.08%\n"
          ]
        }
      ],
      "source": [
        "funk_svd = SVD(biased=True, random_state=0)\n",
        "funk_svd.fit(train_set)\n",
        "pred_funk_svd = funk_svd.test(test_set)\n",
        "rec_funk_svd = get_recommendations(pred_funk_svd)\n",
        "\n",
        "print_metrics(pred_funk_svd, rec_funk_svd)"
      ]
    },
    {
      "cell_type": "markdown",
      "metadata": {
        "id": "0D5wmGGxqNhU"
      },
      "source": [
        "Wygląda to na bardzo dobry wynik, a nie dokonaliśmy jeszcze żadnego tuningu hiperparametrów.\n",
        "\n",
        "**Zadanie 9 (1 punkt)**\n",
        "\n",
        "Zaimplementuj tuning hiperparametrów dla algorytmu FunkSVD, sprawdzając siatkę hiperparametrów:\n",
        "```\n",
        "param_grid = {\n",
        "    \"n_factors\": list(range(50, 151, 10)),\n",
        "    \"lr_all\": [0.001, 0.003, 0.005, 0.007, 0.01],\n",
        "    \"reg_all\": [0.01, 0.02, 0.03]\n",
        "}\n",
        "```\n",
        "\n",
        "Pamiętaj, aby przekazać stałe `random_state`! Przyda się też `n_jobs`. Jeżeli na twoim sprzęcie będzie się to liczyć o wiele za długo, to możesz zmniejszyć zakres `n_factors` do 80-121.\n",
        "\n",
        "Skomentuj wyniki."
      ]
    },
    {
      "cell_type": "code",
      "execution_count": 27,
      "metadata": {
        "id": "hc3jaEsSqNhU",
        "colab": {
          "base_uri": "https://localhost:8080/"
        },
        "outputId": "8814f46c-7744-4415-cc86-73fa68c2d489"
      },
      "outputs": [
        {
          "output_type": "stream",
          "name": "stdout",
          "text": [
            "{'fcp': 0.6821563281065834}\n",
            "{'fcp': {'n_factors': 80, 'lr_all': 0.007, 'reg_all': 0.03, 'random_state': 0, 'verbose': False, 'biased': True}}\n",
            "RMSE: 0.9280\n",
            "MAE:  0.7281\n",
            "MAP@k (k=10): 55.38%\n",
            "FCP@k (k=10): 60.76%\n"
          ]
        }
      ],
      "source": [
        "param_grid = {\n",
        "    \"n_factors\": list(range(50, 151, 10)),\n",
        "    \"lr_all\": [0.001, 0.003, 0.005, 0.007, 0.01],\n",
        "    \"reg_all\": [0.01, 0.02, 0.03],\n",
        "    \"random_state\": [0],\n",
        "    \"verbose\": [False],\n",
        "    \"biased\": [True],\n",
        "}\n",
        "\n",
        "knn_svd = GridSearchCV(SVD, param_grid, measures=[\"fcp\"], cv=10, refit=True, n_jobs=-1)\n",
        "knn_svd.fit(data_train)\n",
        "\n",
        "print(knn_svd.best_score)\n",
        "print(knn_svd.best_params)\n",
        "\n",
        "pred_knn = knn_svd.test(test_set)\n",
        "rec_knn = get_recommendations(pred_knn)\n",
        "\n",
        "print_metrics(pred_knn, rec_knn)"
      ]
    },
    {
      "cell_type": "markdown",
      "metadata": {
        "id": "3AWNj4rFqNhU"
      },
      "source": [
        "// skomentuj tutaj"
      ]
    },
    {
      "cell_type": "markdown",
      "metadata": {
        "id": "283LxFQIqNhU"
      },
      "source": [
        "## Pytania kontrolne (2 punkty)"
      ]
    },
    {
      "cell_type": "markdown",
      "metadata": {
        "id": "ARO3aFDDqNhU"
      },
      "source": [
        "Każde pytanie jest warte 0.5 punktu.\n",
        "\n",
        "1. Załóżmy, że mamy system rekomendujący reklamy użytkownikom. Reklamy zmieniają się regularnie i dość często. Czy algorytmy collaborative filtering będą tu dobrym wyborem, a jeśli tak, to jakie? Jeżeli nie, to co będzie stanowić tu główny problem?\n",
        "\n",
        "- Nie będą di=obrym wyborem przez częste zmiany reklam po których trzebaby trenować model za każdym razem.\n",
        "\n",
        "\n",
        "2. Wymyśl i krótko opisz architekturę przykładowego systemu rekomendacyjnego, sugerującego gry w sklepie Steam. Opisz, jakich algorytmów użyłbyś w konkretnych przypadkach i czemu. Uwzględnij, że może wystąpić zimny start w przypadku nowych użytkowników oraz gier, oraz że mamy ogromną przestrzeń możliwych gier - każdy użytkownik zagra tylko w niewielki ułamek.\n",
        "\n",
        "- Zimny start - dla nowych użytkowników pokazujemy globalnie najpopularniejsze gry, dla wszystkich dobieramy z najnowżyszch gier kilka najważniejszych. A dla osób już ze sprecyzowanymi, ulubionymi ktaegoriami uzyć algorytm FunkSVD.\n",
        "\n",
        "\n",
        "3. Pracujesz w firmie obsługującej platformy z newsami jako data scientist. Zespół data engineering zgromadził bardzo dużą ilość logów o ludziach klikających w artykuły i linki (clickstream data). Użytkownicy nie muszą logować się do systemu, więc identyfikacja jest oparta o ciasteczka (cookies) i niepewna na dłuższą metę. Posiadasz za to bogate metadane o użytkowniku (np. rodzaj urządzenia, przeglądarki, geolokacja, historia sesji) oraz o artykułach (np. język, treść, tagi). Jakiego rodzaju systemu rekomendacyjnego byś użył (jakiego da się użyć?) i dlaczego? Nie musisz tutaj opisywać szczegółowo algorytmów. Rozważ:\n",
        "  - globalny vs personalizowany\n",
        "  - content-based vs collaborative filtering vs hybrydowy\n",
        "  - explicit vs implicit\n",
        "\n",
        "- personalizowany - posiadamy dużo danych, content-based, implicit - nie wszystkie dane są konkretne (kliknięcia)\n",
        "\n",
        "\n",
        "4. Pracujesz w firmie tworzącej oprogramowanie dla sklepów internetowych. Użytkownik ma możliwość sortowania malejąco po średniej opinii, ale z historii użyć wynika, że często nie klikają przedmiotów o najwyższej średniej ocenie, tylko któryś z kolejnych. Jaki może być tego przyczyna? Jak można by rozwiązać ten problem?\n",
        "\n",
        "- mało ocen produktu - większa niepewnośc klienta, zaradzić może Model średniej bayesowskiej.\n",
        "\n"
      ]
    },
    {
      "cell_type": "markdown",
      "metadata": {
        "id": "KnVo0f0PqNhV"
      },
      "source": [
        "Źródła inspiracji do zadań dla zainteresowanych:\n",
        "1. Praca autora tego zestawu.\n",
        "2. Steam API oraz SteamSpy pozwalają łatwo zbierać duże zbiory danych z tej platformy, powstało w ten sposób zresztą całkiem sporo projektów, prac dyplomowych i artykułów naukowych (np. [projekt 1](http://brandonlin.com/steam.pdf), [projekt 2](https://library.ucsd.edu/dc/object/bb5021836n/_3_1.pdf), [praca dyplomowa](https://openaccess.mef.edu.tr/bitstream/handle/20.500.11779/1721/Serhan%20Bayram.pdf?sequence=1&isAllowed=y), [artykuł naukowy 1](https://www.researchgate.net/publication/333072035_Recommender_Systems_for_Online_Video_Game_Platforms_the_Case_of_STEAM), [artykuł naukowy 2](https://trepo.tuni.fi/bitstream/handle/10024/122499/a_hybrid_recommender_system_2020.pdf;jsessionid=E796B8E915FBBF37EF1E0B75210D8690?sequence=2)). Przykładowe zbiory: [dataset 1](https://www.kaggle.com/datasets/nikdavis/steam-store-games), [dataset 2](https://www.kaggle.com/datasets/forgemaster/steam-reviews-dataset), [dataset 3](https://cseweb.ucsd.edu/~jmcauley/datasets.html#steam_data).\n",
        "3. Luźno wzorowane na [zbiorze danych CI&T Deskdrop](https://www.kaggle.com/datasets/gspmoreira/articles-sharing-reading-from-cit-deskdrop).\n",
        "4. Artykuł [\"How not to sort by average rating\"](https://www.evanmiller.org/how-not-to-sort-by-average-rating.html)."
      ]
    },
    {
      "cell_type": "markdown",
      "metadata": {
        "id": "AHu6Fo2jqNhV"
      },
      "source": [
        "## Zadanie dla chętnych"
      ]
    },
    {
      "cell_type": "markdown",
      "metadata": {
        "id": "KiqDXKTnqNhV"
      },
      "source": [
        "Uruchom na zbiorze MovieLens-1M (albo innym podobnego rozmiaru) algorytm LightGCN ([artykuł](https://arxiv.org/pdf/2002.02126.pdf)), implementujący podejście grafowe do rekomendacji, z użyciem biblioteki LibRecommender ([tutorial](https://github.com/massquantity/LibRecommender/blob/master/examples/pure_ranking_example.py)), która pod spodem używa PyTorch Geometric ([tutorial dla odważnych](https://colab.research.google.com/drive/1VfP6JlWbX_AJnx88yN1tM3BYE6XAADiy?usp=sharing)). Poniżej opis, jak to działa, ale znajomość teorii nie jest potrzebna do wykonania tego zadania :) Możesz użyć domyślnych hiperparametrów architektury sieci z tutoriala, ale zaimplementuj tuning przynajmniej liczby epok (LibRecommender nie ma early stoppingu). Jeżeli zbiór 1M jest za duży dla twojego sprzętu, możesz pracować na 100k. Jeżeli użyjesz MovieLens-1M, dla porównania zaimplementuj także wybrane 1-2 algorytmy z tego laboratorium na tym zbiorze (możesz po prostu skopiować kod z notebooka powyżej).\n",
        "\n",
        "W tym podejściu reprezentujemy problem jako graf, a nie jako macierz. Mamy graf dwudzielny użytkowników i przedmiotów, gdzie ocena reprezentowana jest jako krawędź między wierzchołkiem użytkownika a wierzchołkiem przedmiotu, opisana oceną. Rekomendacja polega na zadaniu **przewidywania krawędzi (edge prediction)**, czyli zasugerowanie dodania nowej krawędzi między użytkownikiem a przedmiotem.\n",
        "\n",
        "Sieć LightGCN implementuje podejście collaborative filtering na grafie. Jest to **grafowa sieć neuronowa (Graph Neural Network, GNN)**, osiągająca obecnie jedne z najlepszych wyników wśród systemów CF. Każdy wierzchołek ma tutaj wektor o pewnej założonej z góry długości $N$, tzw. embedding. Tworzy się go następująco:\n",
        "- robimy one-hot encoding dla użytkowników i przedmiotów, kodując ich `user_id` i `item_id`\n",
        "- mnożymy użytkowników przez macierz, robiąc kombinację liniową i rzutując na niższy wymiar\n",
        "- to samo, co wyżej, tylko dla przedmiotów\n",
        "Macierze embeddujące dla użytkowników i przedmiotów są parametrami, których uczymy się wraz z treningiem sieci neuronowej. Inicjalizuje się je losowo.\n",
        "\n",
        "Sieć LightGCN składa się z kilku warstw **konwolucji grafowej (graph convolution)**, gdzie każda warstwa agreguje informację z sąsiednich wierzchołków. Dla każdego wierzchołka robimy po prostu sumę ważoną wektorów sąsiadów ($e_u$ - embedding użytkownika $u$, $e_i$ - embedding przedmiotu $i$):\n",
        "$$\\large\n",
        "e_u^{(k+1)} = \\sum_{i \\in N(u)} \\frac{1}{\\sqrt{N(u)}\\sqrt{N(i)}} e_i^{(k)}\n",
        "$$\n",
        "Sąsiadów ważymy ich stopniem, aby wziąć pod uwagę popularność poszczególnych przedmiotów i aktywność użytkowników (mają duży stopień). Taka wymiana informacji między wierzchołkami propaguje informację w grafie, aktualizując embeddingi.\n",
        "\n",
        "Typowo takich warstw jest kilka, np. 3-4. Później agreguje się informację ze wszystkich warstw, w odróżnieniu od sieci CNN dla obrazów, gdzie zwykle bierze się wyjście tylko z ostatniej warstwy. Dla każdego użytkownika (i przedmiotu) bierzemy jego embedding z każdej warstwy i uśredniamy je. Daje to bogatą reprezentację wierzchołka i agreguje informacje zarówno z bliskiego sąsiedztwa (głębokie warstwy), jak i z ogółu społecznści w grafie (wysokie warstwy).\n",
        "\n",
        "Predykcja to po prostu iloczyn skalarny embeddingu użytkownika i przedmiotu: $r_{ij} = e_j^T e_i$. Sieć taką uczy się zwykle funkcją kosztu **Bayesian Personalized Ranking (BPR)**, używaną powszechnie w sieciach neuronowych do systemów rekomendacyjnych. Oczywiście uwzględnia się tu wszystkie typowe elementy sieci neuronowych: learning rate, weight decay etc."
      ]
    },
    {
      "cell_type": "code",
      "execution_count": null,
      "metadata": {
        "id": "RemV7ROsqNhV"
      },
      "outputs": [],
      "source": []
    }
  ],
  "metadata": {
    "colab": {
      "toc_visible": true,
      "provenance": []
    },
    "kernelspec": {
      "display_name": "Python 3 (ipykernel)",
      "language": "python",
      "name": "python3"
    },
    "language_info": {
      "codemirror_mode": {
        "name": "ipython",
        "version": 3
      },
      "file_extension": ".py",
      "mimetype": "text/x-python",
      "name": "python",
      "nbconvert_exporter": "python",
      "pygments_lexer": "ipython3",
      "version": "3.9.7"
    },
    "toc": {
      "base_numbering": 1,
      "nav_menu": {},
      "number_sections": false,
      "sideBar": false,
      "skip_h1_title": false,
      "title_cell": "Table of Contents",
      "title_sidebar": "Contents",
      "toc_cell": false,
      "toc_position": {
        "height": "763px",
        "left": "10px",
        "top": "150px",
        "width": "214.594px"
      },
      "toc_section_display": true,
      "toc_window_display": true
    }
  },
  "nbformat": 4,
  "nbformat_minor": 0
}